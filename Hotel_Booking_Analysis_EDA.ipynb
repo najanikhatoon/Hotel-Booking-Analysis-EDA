{
  "nbformat": 4,
  "nbformat_minor": 0,
  "metadata": {
    "colab": {
      "private_outputs": true,
      "provenance": [],
      "collapsed_sections": [
        "vncDsAP0Gaoa",
        "FJNUwmbgGyua",
        "w6K7xa23Elo4",
        "yQaldy8SH6Dl",
        "PH-0ReGfmX4f",
        "mDgbUHAGgjLW",
        "O_i_v8NEhb9l",
        "HhfV-JJviCcP",
        "Y3lxredqlCYt",
        "3RnN4peoiCZX",
        "x71ZqKXriCWQ",
        "7hBIi_osiCS2",
        "JlHwYmJAmNHm",
        "35m5QtbWiB9F",
        "PoPl-ycgm1ru",
        "H0kj-8xxnORC",
        "nA9Y7ga8ng1Z",
        "PBTbrJXOngz2",
        "u3PMJOP6ngxN",
        "dauF4eBmngu3",
        "bKJF3rekwFvQ",
        "MSa1f5Uengrz",
        "GF8Ens_Soomf",
        "0wOQAZs5pc--",
        "K5QZ13OEpz2H",
        "lQ7QKXXCp7Bj",
        "448CDAPjqfQr",
        "KSlN3yHqYklG",
        "t6dVpIINYklI",
        "ijmpgYnKYklI",
        "-JiQyfWJYklI",
        "EM7whBJCYoAo",
        "fge-S5ZAYoAp",
        "85gYPyotYoAp",
        "RoGjAbkUYoAp",
        "4Of9eVA-YrdM",
        "iky9q4vBYrdO",
        "F6T5p64dYrdO",
        "y-Ehk30pYrdP",
        "bamQiAODYuh1",
        "QHF8YVU7Yuh3",
        "GwzvFGzlYuh3",
        "qYpmQ266Yuh3",
        "OH-pJp9IphqM",
        "bbFf2-_FphqN",
        "_ouA3fa0phqN",
        "Seke61FWphqN",
        "PIIx-8_IphqN",
        "t27r6nlMphqO",
        "r2jJGEOYphqO",
        "b0JNsNcRphqO",
        "BZR9WyysphqO",
        "jj7wYXLtphqO",
        "eZrbJ2SmphqO",
        "rFu4xreNphqO",
        "YJ55k-q6phqO",
        "gCFgpxoyphqP",
        "OVtJsKN_phqQ",
        "lssrdh5qphqQ",
        "U2RJ9gkRphqQ",
        "1M8mcRywphqQ",
        "tgIPom80phqQ",
        "JMzcOPDDphqR",
        "x-EpHcCOp1ci",
        "X_VqEhTip1ck",
        "8zGJKyg5p1ck",
        "PVzmfK_Ep1ck",
        "n3dbpmDWp1ck",
        "ylSl6qgtp1ck",
        "ZWILFDl5p1ck",
        "M7G43BXep1ck",
        "Ag9LCva-p1cl",
        "E6MkPsBcp1cl",
        "2cELzS2fp1cl",
        "3MPXvC8up1cl",
        "NC_X3p0fY2L0",
        "UV0SzAkaZNRQ",
        "YPEH6qLeZNRQ",
        "q29F0dvdveiT",
        "EXh0U9oCveiU",
        "22aHeOlLveiV",
        "JcMwzZxoAimU",
        "8G2x9gOozGDZ",
        "gCX9965dhzqZ",
        "gIfDvo9L0UH2"
      ]
    },
    "kernelspec": {
      "name": "python3",
      "display_name": "Python 3"
    },
    "language_info": {
      "name": "python"
    }
  },
  "cells": [
    {
      "cell_type": "markdown",
      "source": [
        "# **Project Name**    - **Hotel** **Booking** **Analysis**\n",
        "\n"
      ],
      "metadata": {
        "id": "vncDsAP0Gaoa"
      }
    },
    {
      "cell_type": "markdown",
      "source": [
        "##### **Project Type**    - EDA\n",
        "##### **Contribution**    - Individual\n",
        "# Name - Najani khatoon"
      ],
      "metadata": {
        "id": "beRrZCGUAJYm"
      }
    },
    {
      "cell_type": "markdown",
      "source": [
        "# **Project Summary -**\n",
        "\n",
        "\n",
        "This project aims to perform Exploratory Data Analysis (EDA) on a dataset containing hotel booking information to gain insights and understand patterns in customer behaviour, booking trends, and other relevant factors that impact the hospitality industry. By conducting a comprehensive EDA, we intend to extract meaningful information that can guide decision-making, improve customer experience, and optimise hotel management strategies.\n",
        "\n",
        "\n",
        "\n",
        "\n",
        "# Objectives::\n",
        "\n",
        "\n",
        "Data Collection and Description:- The project begins with the collection of a comprehensive dataset from various sources, such as hotel reservation systems, customer databases, and online booking platforms. The dataset includes a wide range of attributes, such as customer demographics, booking dates, room types, booking channels, length of stay, cancellations, special requests, and historical hotel performance metrics.\n",
        "\n",
        "Data Cleaning and Preprocessing:- The collected data undergoes a rigorous preprocessing phase to handle missing values, outliers, and inconsistencies. Data cleaning techniques are applied to ensure data integrity and accuracy. Irrelevant or redundant features may be removed, and categorical variables are encoded appropriately for analysis.\n",
        "\n",
        "Exploratory Data Analysis (EDA):- The heart of the project lies in conducting an extensive EDA to extract meaningful insights and patterns from the dataset. The EDA process includes various analytical techniques and visualizations, such as statistical summaries, histograms, box plots, scatter plots, heatmaps, and time-series analyses.\n",
        "\n",
        "Customer Segmentation:- Based on the analysis, we will attempt to segment customers into different groups based on their booking behaviors, demographics, and preferences. This can help in tailoring marketing strategies and service offerings to specific customer segments."
      ],
      "metadata": {
        "id": "FJNUwmbgGyua"
      }
    },
    {
      "cell_type": "markdown",
      "source": [
        "# **GitHub Link -**\n"
      ],
      "metadata": {
        "id": "w6K7xa23Elo4"
      }
    },
    {
      "cell_type": "markdown",
      "source": [
        "Provide your GitHub Link here.\n"
      ],
      "metadata": {
        "id": "h1o69JH3Eqqn"
      }
    },
    {
      "cell_type": "markdown",
      "source": [
        "# **Problem Statement**\n"
      ],
      "metadata": {
        "id": "yQaldy8SH6Dl"
      }
    },
    {
      "cell_type": "markdown",
      "source": [
        "\n",
        "We are here to explore a hotel booking dataset to discover important factors that govern the bookings, which contain booking information for a city hotel and a resort hotel. We will analyze some important aspects of hotel bookings which will helps us identify major loopholes and give us insights which will be helpful to run profitable hotel business are as follows:\n",
        "\n",
        "The time of year to book a hotel room?\n",
        "Optimal length of stay to get the best daily rate?\n",
        "To predict whether or not a hotel was likely to receive a disproportionately high number of special requests?"
      ],
      "metadata": {
        "id": "DpeJGUA3kjGy"
      }
    },
    {
      "cell_type": "markdown",
      "source": [
        "#### **Define Your Business Objective?**"
      ],
      "metadata": {
        "id": "PH-0ReGfmX4f"
      }
    },
    {
      "cell_type": "markdown",
      "source": [
        "In Hotel industry, Cancellation and Average Daily Rate are two important factors that help run the business effectively.\n",
        "\n",
        "By understanding the factors that are determining the cancellation of a certain booking, the hotels can take necessary precautions to reduce Cancellation rate.\n",
        "By understanding the patterns in ADR against different variables, the hotels can be prepared in advance to generate more revenue and help make a profitable business.\n",
        "Our goal here is to understand such factors in the given data set by performing Exploratory Data Analysis."
      ],
      "metadata": {
        "id": "PhDvGCAqmjP1"
      }
    },
    {
      "cell_type": "markdown",
      "source": [
        "# ***Let's Begin !***"
      ],
      "metadata": {
        "id": "O_i_v8NEhb9l"
      }
    },
    {
      "cell_type": "markdown",
      "source": [
        "## ***1. Know Your Data***"
      ],
      "metadata": {
        "id": "HhfV-JJviCcP"
      }
    },
    {
      "cell_type": "markdown",
      "source": [
        "### Import Libraries"
      ],
      "metadata": {
        "id": "Y3lxredqlCYt"
      }
    },
    {
      "cell_type": "code",
      "source": [
        "# Import Libraries\n",
        "# Import required Libraries\n",
        "import pandas as pd\n",
        "import numpy as np\n",
        "\n",
        "# importing visualization libraries\n",
        "import matplotlib.pyplot as plt\n",
        "import seaborn as sns\n",
        "from numpy import math\n",
        "\n",
        "# import warnings\n",
        "import warnings\n",
        "warnings.filterwarnings('ignore')"
      ],
      "metadata": {
        "id": "M8Vqi-pPk-HR"
      },
      "execution_count": null,
      "outputs": []
    },
    {
      "cell_type": "markdown",
      "source": [
        "### Dataset Loading"
      ],
      "metadata": {
        "id": "3RnN4peoiCZX"
      }
    },
    {
      "cell_type": "code",
      "source": [
        "# Load Dataset\n",
        "# Load Dataset from google drive by connecting the google drive\n",
        "\n",
        "from google.colab import drive\n",
        "drive.mount('/content/drive')"
      ],
      "metadata": {
        "id": "4CkvbW_SlZ_R"
      },
      "execution_count": null,
      "outputs": []
    },
    {
      "cell_type": "code",
      "source": [
        "url = ('/content/drive/MyDrive/almabetter data/Hotel Bookings (2) project.csv')\n",
        "\n",
        "dataset = pd.read_csv(url)"
      ],
      "metadata": {
        "id": "Pz-GsnKttE9H"
      },
      "execution_count": null,
      "outputs": []
    },
    {
      "cell_type": "markdown",
      "source": [
        "### Dataset First View"
      ],
      "metadata": {
        "id": "x71ZqKXriCWQ"
      }
    },
    {
      "cell_type": "code",
      "source": [
        "\n",
        "# View top 5 rows of the dataset\n",
        "dataset.head()"
      ],
      "metadata": {
        "id": "LWNFOSvLl09H"
      },
      "execution_count": null,
      "outputs": []
    },
    {
      "cell_type": "code",
      "source": [
        "# view bottom 5 rows of the dataset\n",
        "dataset.tail()"
      ],
      "metadata": {
        "id": "m6h-kJ2s08ko"
      },
      "execution_count": null,
      "outputs": []
    },
    {
      "cell_type": "markdown",
      "source": [
        "### Dataset Rows & Columns count"
      ],
      "metadata": {
        "id": "7hBIi_osiCS2"
      }
    },
    {
      "cell_type": "code",
      "source": [
        "\n",
        "# Dataset Rows & Columns count\n",
        "dataset.shape\n",
        "print('the number of rows',dataset.shape[0])\n",
        "print('the number of columns',dataset.shape[1])"
      ],
      "metadata": {
        "id": "Kllu7SJgmLij"
      },
      "execution_count": null,
      "outputs": []
    },
    {
      "cell_type": "markdown",
      "source": [
        "### Dataset Information"
      ],
      "metadata": {
        "id": "JlHwYmJAmNHm"
      }
    },
    {
      "cell_type": "code",
      "source": [
        "# Dataset Info\n",
        "# Detailed information of the dataset\n",
        "dataset.info()"
      ],
      "metadata": {
        "id": "e9hRXRi6meOf"
      },
      "execution_count": null,
      "outputs": []
    },
    {
      "cell_type": "markdown",
      "source": [
        "#### Duplicate Values"
      ],
      "metadata": {
        "id": "35m5QtbWiB9F"
      }
    },
    {
      "cell_type": "code",
      "source": [
        "\n",
        "# Checking duplicated rows count\n",
        "dataset[dataset.duplicated()].shape"
      ],
      "metadata": {
        "id": "1sLdpKYkmox0"
      },
      "execution_count": null,
      "outputs": []
    },
    {
      "cell_type": "markdown",
      "source": [
        "There are 31994 rows having duplicate values"
      ],
      "metadata": {
        "id": "oxVnynsc2Lrc"
      }
    },
    {
      "cell_type": "code",
      "source": [
        "# removing the duplicate values\n",
        "dataset.drop_duplicates(inplace =True)"
      ],
      "metadata": {
        "id": "Smoa73gs2Wdi"
      },
      "execution_count": null,
      "outputs": []
    },
    {
      "cell_type": "code",
      "source": [
        "# checking for duplicate values\n",
        "dataset[dataset.duplicated()].shape"
      ],
      "metadata": {
        "id": "vLj8kiGB2a4l"
      },
      "execution_count": null,
      "outputs": []
    },
    {
      "cell_type": "code",
      "source": [
        "# number of observations after removing duplicates\n",
        "dataset.shape"
      ],
      "metadata": {
        "id": "nQh4ic6k2i7s"
      },
      "execution_count": null,
      "outputs": []
    },
    {
      "cell_type": "markdown",
      "source": [
        "#### Missing Values/Null Values"
      ],
      "metadata": {
        "id": "PoPl-ycgm1ru"
      }
    },
    {
      "cell_type": "code",
      "source": [
        "dataset.isnull().sum().sort_values()"
      ],
      "metadata": {
        "id": "pWObeYI92oBt"
      },
      "execution_count": null,
      "outputs": []
    },
    {
      "cell_type": "markdown",
      "source": [
        "we can observe there are four columns [children,country,agent,company] having missing values"
      ],
      "metadata": {
        "id": "pInY6SQo2wk5"
      }
    },
    {
      "cell_type": "markdown",
      "source": [
        "We can observe that there are 4 null values in the \"children\" column. Since it is highly likely that customers with 0 children might have been missed while filling the column, we can fill these null values with 0."
      ],
      "metadata": {
        "id": "hhfFba9-2-nl"
      }
    },
    {
      "cell_type": "code",
      "source": [
        "# Missing Values/Null Values Count\n",
        "# Imputing the 4 null values as 0 in 'children' column\n",
        "dataset['children'] = dataset['children'].fillna(0)"
      ],
      "metadata": {
        "id": "GgHWkxvamxVg"
      },
      "execution_count": null,
      "outputs": []
    },
    {
      "cell_type": "code",
      "source": [
        "# Visualizing the missing values\n",
        "# we are having 452 missing values in country column, so we can replace this as 'others' for the categorization.\n",
        "dataset['country'] = dataset['country'].fillna('others')"
      ],
      "metadata": {
        "id": "3q5wnI3om9sJ"
      },
      "execution_count": null,
      "outputs": []
    },
    {
      "cell_type": "markdown",
      "source": [
        "As we can observe that agent and company are the booking mediums for the customer, so there is a high chance that customer can book directly without any medium. So we can replace the value 0"
      ],
      "metadata": {
        "id": "HSy9l4G24IY9"
      }
    },
    {
      "cell_type": "code",
      "source": [
        "dataset[['agent','company']] = dataset[['agent','company']].fillna(0)"
      ],
      "metadata": {
        "id": "yCMYxsUl4WpX"
      },
      "execution_count": null,
      "outputs": []
    },
    {
      "cell_type": "code",
      "source": [
        "# Checking about the missing values after visualization\n",
        "dataset.isnull().sum().sort_values()"
      ],
      "metadata": {
        "id": "2LJAQdyD4fP7"
      },
      "execution_count": null,
      "outputs": []
    },
    {
      "cell_type": "markdown",
      "source": [
        "from the above, we can observe that some rows of babies,children,adults columns having 0 values in it, which represents the number of persons in the booking is 0 by which the booking is invalid to do analysis."
      ],
      "metadata": {
        "id": "tE61v_rI4s-Y"
      }
    },
    {
      "cell_type": "code",
      "source": [
        "# Checking the number of rows having 0 values in it\n",
        "dataset[dataset['babies']+dataset['children'] + dataset['adults'] == 0].shape"
      ],
      "metadata": {
        "id": "pcbOd-rU4qu5"
      },
      "execution_count": null,
      "outputs": []
    },
    {
      "cell_type": "code",
      "source": [
        "# dropping the above 166 rows which have 0 values in it\n",
        "dataset.drop(dataset[dataset['babies']+dataset['children']+dataset['adults'] == 0].index,inplace = True)"
      ],
      "metadata": {
        "id": "aZnGZjqd51Md"
      },
      "execution_count": null,
      "outputs": []
    },
    {
      "cell_type": "markdown",
      "source": [
        "### What did you know about your dataset?"
      ],
      "metadata": {
        "id": "H0kj-8xxnORC"
      }
    },
    {
      "cell_type": "markdown",
      "source": [
        "This dataset contains information about bookings and revenue for resort and hotel properties from July 2015 to August 2017. The dataset consists of 87,396 rows and 32 columns, providing comprehensive details for analysis.\n",
        "\n",
        "Our objective is to analyze the data and gain insights into the best time for hotel bookings and the optimal length of stay to obtain the best rates. Additionally, we will explore other key aspects of the dataset to uncover valuable information.\n",
        "\n",
        "By conducting a thorough analysis of this dataset, we aim to provide meaningful insights and recommendations to improve the booking strategies and revenue optimization for resort and hotel properties."
      ],
      "metadata": {
        "id": "yxmtUNiI6BR8"
      }
    },
    {
      "cell_type": "markdown",
      "source": [
        "## ***2. Understanding Your Variables***"
      ],
      "metadata": {
        "id": "nA9Y7ga8ng1Z"
      }
    },
    {
      "cell_type": "code",
      "source": [
        "# Dataset Columns\n",
        "# Describing the dataset\n",
        "dataset.describe()"
      ],
      "metadata": {
        "id": "j7xfkqrt5Ag5"
      },
      "execution_count": null,
      "outputs": []
    },
    {
      "cell_type": "code",
      "source": [
        "# Dataset Describe\n",
        "# Dataset Columns\n",
        "dataset.columns"
      ],
      "metadata": {
        "id": "DnOaZdaE5Q5t"
      },
      "execution_count": null,
      "outputs": []
    },
    {
      "cell_type": "markdown",
      "source": [
        "### Variables Description"
      ],
      "metadata": {
        "id": "PBTbrJXOngz2"
      }
    },
    {
      "cell_type": "markdown",
      "source": [
        "\n",
        "hotel : Type of the hotel Categorical\n",
        "\n",
        "is_cancelled : whether booking is cancelled (cancelled = 1, not cancelled = 0 ) numerical\n",
        "\n",
        "lead_time : The number of days elapsed between the booking and the arrival date of the guests numerical\n",
        "\n",
        "arrival_date_year:year of the arrival numerical\n",
        "\n",
        "arrival_date_month : month of the arrival numerical\n",
        "\n",
        "arrival_date_week_number : week of the arrival numerical\n",
        "\n",
        "arrival_date_day_of_the_month : day of the arrival numerical\n",
        "\n",
        "stays_in_weekend_nights : number of weekend nights stayed numerical\n",
        "\n",
        "stays_in_week_nights : number of week nights stayed numerical\n",
        "\n",
        "adults : number of adults numerical\n",
        "\n",
        "children : number of children numerical\n",
        "\n",
        "babies : number of babies numerical\n",
        "\n",
        "meal : type of the meal categorical\n",
        "\n",
        "country : country of the guest country\n",
        "\n",
        "market_segment : which segment the customer belongs to country\n",
        "\n",
        "Disribution_channel : Through which means guest got booking categorical\n",
        "\n",
        "is_repeated_guest : whether the guest is repeated(repeated = 1, not repeated = 0) categorical\n",
        "\n",
        "previous_cancellation : is there any previous cancellations of the guest categorical\n",
        "\n",
        "previous_booking : number of completed bookings of the guest numerical\n",
        "\n",
        "reserved_room_type : type of the room guest booked categorical\n",
        "\n",
        "assigned_room_type : room assigned to the guest for the booking categorical\n",
        "\n",
        "booking_changes : number of changes made in the booking numerical\n",
        "\n",
        "deposit_type : type of deposit the guest made categorical\n",
        "\n",
        "agent : ID of the agentcategorical\n",
        "\n",
        "company : ID of the company categorical\n",
        "\n",
        "days_in_waiting_list : number of days to wait numerical\n",
        "\n",
        "customer_type : type of the customer categorical\n",
        "\n",
        "adr : average daily rate(ADR) numerical\n",
        "\n",
        "required_car_parking : number of car parking spaces required to the guest numerical\n",
        "\n",
        "total_of_special_requests : special requests made by the guests numerical\n",
        "\n",
        "reservation_status : status of the reservation categorical\n",
        "\n",
        "reservation_status_date :date of reservation date"
      ],
      "metadata": {
        "id": "v0k_iF9M78JP"
      }
    },
    {
      "cell_type": "markdown",
      "source": [
        "### Check Unique Values for each variable."
      ],
      "metadata": {
        "id": "u3PMJOP6ngxN"
      }
    },
    {
      "cell_type": "code",
      "source": [
        "\n",
        "# Check Unique Values for each variable using for loop\n",
        "for i in dataset.columns.tolist():\n",
        "  print(\"number of unique values in\",i,\"is\",dataset[i].nunique())"
      ],
      "metadata": {
        "id": "zms12Yq5n-jE"
      },
      "execution_count": null,
      "outputs": []
    },
    {
      "cell_type": "code",
      "source": [],
      "metadata": {
        "id": "dSEB4BTK8WDw"
      },
      "execution_count": null,
      "outputs": []
    },
    {
      "cell_type": "markdown",
      "source": [
        "## 3. ***Data Wrangling***"
      ],
      "metadata": {
        "id": "dauF4eBmngu3"
      }
    },
    {
      "cell_type": "markdown",
      "source": [
        "### Data Wrangling Code"
      ],
      "metadata": {
        "id": "bKJF3rekwFvQ"
      }
    },
    {
      "cell_type": "code",
      "source": [
        "\n",
        "# Lets create a copy of dataset to do data wrangling\n",
        "df = dataset.copy()"
      ],
      "metadata": {
        "id": "wk-9a2fpoLcV"
      },
      "execution_count": null,
      "outputs": []
    },
    {
      "cell_type": "code",
      "source": [
        "# observing the subcategories in market_segment and distribution channel columns to get insights\n",
        "df.groupby('market_segment')['distribution_channel'].value_counts()"
      ],
      "metadata": {
        "id": "MPNhRgRy9bbU"
      },
      "execution_count": null,
      "outputs": []
    },
    {
      "cell_type": "markdown",
      "source": [
        "From the above analysis, we can observe that the market_segment and distribution_channel columns appear to have similarities, but each has subcategories, making it difficult to merge or remove these columns. However, we can handle the undefined values in the market_segment column by replacing them with \"online TA\" since its proportion is significantly higher compared to other categories.\n",
        "\n",
        "Based on this observation, it is recommended to replace the undefined values in the market_segment column with \"online TA\" to ensure consistency and improve the analysis."
      ],
      "metadata": {
        "id": "kNFWdYF6l6-F"
      }
    },
    {
      "cell_type": "code",
      "source": [
        "# replacing the undefined value in market segment as online TA\n",
        "\n",
        "df['market_segment'] = df['market_segment'].replace(to_replace = 'Undefined', value = 'Online TA')"
      ],
      "metadata": {
        "id": "K0D_jEsR99um"
      },
      "execution_count": null,
      "outputs": []
    },
    {
      "cell_type": "code",
      "source": [
        "# creating a new column as total_nights by adding stays_in_weekend_nights and stays_in_week_nights\n",
        "\n",
        "df['total_nights'] = df['stays_in_weekend_nights'] + df['stays_in_week_nights']"
      ],
      "metadata": {
        "id": "eTrcKWtn-Dpf"
      },
      "execution_count": null,
      "outputs": []
    },
    {
      "cell_type": "code",
      "source": [
        "# creating a new column for lead_time in terms of month\n",
        "\n",
        "df['lead_time_months'] = df['lead_time']//30"
      ],
      "metadata": {
        "id": "baSPPfiv-HyW"
      },
      "execution_count": null,
      "outputs": []
    },
    {
      "cell_type": "code",
      "source": [
        "#creating a function basis on the row to evaluate the values of the given row\n",
        "\n",
        "def cancellation(row):\n",
        "  if(row['previous_cancellations'] == 0):\n",
        "    return 0\n",
        "  else :\n",
        "    return 1"
      ],
      "metadata": {
        "id": "c6brZnPJ-MsM"
      },
      "execution_count": null,
      "outputs": []
    },
    {
      "cell_type": "code",
      "source": [
        "# creating new column of previously cancelled values by using the function\n",
        "\n",
        "df['is_previously_cancelled'] = df.apply(cancellation,axis =1)"
      ],
      "metadata": {
        "id": "EMXVz2St-Rq7"
      },
      "execution_count": null,
      "outputs": []
    },
    {
      "cell_type": "code",
      "source": [
        "# creating new column of non-adults by adding kids and babies columns\n",
        "\n",
        "df['kids'] = df['children'] + df['babies']"
      ],
      "metadata": {
        "id": "SWLpYI92-Tuu"
      },
      "execution_count": null,
      "outputs": []
    },
    {
      "cell_type": "code",
      "source": [
        "# creating new column of total number of people by adding children,babies and adults columns\n",
        "\n",
        "df['total_number_of_people'] = df['children'] + df['babies'] + df['adults']"
      ],
      "metadata": {
        "id": "_f9H0p0n-UIf"
      },
      "execution_count": null,
      "outputs": []
    },
    {
      "cell_type": "code",
      "source": [
        "# converting the datatypes from float to integer 64 of below columns\n",
        "\n",
        "df[['children','agent','company','kids','total_number_of_people']] = df[['children','agent','company','kids','total_number_of_people']].astype('int64')"
      ],
      "metadata": {
        "id": "b4KHCxQt-h_J"
      },
      "execution_count": null,
      "outputs": []
    },
    {
      "cell_type": "code",
      "source": [
        "# changing the format of reservation_status_date string column string to date format\n",
        "\n",
        "df['reservation_status_date'] = pd.to_datetime(df['reservation_status_date'],format = '%Y-%m-%d')"
      ],
      "metadata": {
        "id": "7nQzfvux-pT5"
      },
      "execution_count": null,
      "outputs": []
    },
    {
      "cell_type": "markdown",
      "source": [
        "# What all manipulations have you done and insights you found?"
      ],
      "metadata": {
        "id": "QMaiaPp-maL5"
      }
    },
    {
      "cell_type": "markdown",
      "source": [
        "\n",
        "In the previous steps, we performed data wrangling by adding new columns and modifying existing columns to enhance our analysis. We made changes to the datatypes of selected columns to facilitate better operations and functions. These transformations allow us to obtain more meaningful insights from the data.\n",
        "\n",
        "By converting the 'reservation_status_date' column to a different datatype, such as datetime, we can extract information based on quarters, months, or years. This allows us to analyze the booking patterns over different time periods.\n",
        "\n",
        "Additionally, we introduced new columns to capture the total number of people involved in each booking. By aggregating the 'children', 'babies', and 'adults' columns into a new column called 'total_number_of_people', we can analyze the bookings based on the total number of individuals.\n",
        "\n",
        "Another new column we added is 'total_nights', which represents the total number of nights for each booking. This allows us to examine the bookings from the perspective of the duration of stay.\n",
        "\n",
        "Furthermore, we recognized the importance of visual representations in our analysis. By plotting graphs and visualizations, we can gain deeper insights and effectively communicate our findings to stakeholders.\n",
        "\n",
        "\n"
      ],
      "metadata": {
        "id": "8DaUBp94_eSp"
      }
    },
    {
      "cell_type": "markdown",
      "source": [
        "## ***4. Data Vizualization, Storytelling & Experimenting with charts : Understand the relationships between variables***"
      ],
      "metadata": {
        "id": "GF8Ens_Soomf"
      }
    },
    {
      "cell_type": "markdown",
      "source": [
        "Chart - 1 Visualization on 'is_cancelled' column (Univariate Analyis)"
      ],
      "metadata": {
        "id": "03IKY1uzm-G9"
      }
    },
    {
      "cell_type": "code",
      "source": [
        "# plotting for 'is_canceled' column to check the difference between the bookings\n",
        "df1 = df['is_canceled'].value_counts()\n",
        "x = df1.index.values\n",
        "y = df1.values\n",
        "\n",
        "plt.figure(figsize=(10,5))\n",
        "plots = sns.barplot(x = x, y = y/sum(y)*100)\n",
        "for bar in plots.patches:\n",
        "  plots.annotate(f'{format(bar.get_height(),\".2f\")}%',\n",
        "                    (bar.get_x() + bar.get_width()/2,\n",
        "                    bar.get_height()), ha='center',va ='center',\n",
        "                    size = 12,xytext = (0,8),\n",
        "                    textcoords = 'offset points')\n",
        "\n",
        "plt.xlabel('Booking Cancelled (Booking cancelled = 1, not cancelled = 0)')\n",
        "plt.ylabel('Percentage of bookings')\n",
        "plt.title('Booking info(Cancelled & Not Cancelled)')\n",
        "plt.show()\n",
        "\n",
        "no_of_bookings_not_cancelled = df1[0]\n",
        "no_of_bookings_cancelled = df1[1]\n",
        "total_bookings = no_of_bookings_not_cancelled + no_of_bookings_cancelled\n",
        "\n",
        "print(\"bookings not cancelled is\",(no_of_bookings_not_cancelled))\n",
        "print(\"bookings cancelled is\",(no_of_bookings_cancelled ))\n",
        "print('Total bookings are', total_bookings)"
      ],
      "metadata": {
        "id": "ZKJNWuxgtbBy"
      },
      "execution_count": null,
      "outputs": []
    },
    {
      "cell_type": "markdown",
      "source": [
        "##### 1. Why did you pick the specific chart?"
      ],
      "metadata": {
        "id": "K5QZ13OEpz2H"
      }
    },
    {
      "cell_type": "markdown",
      "source": [
        "We chose bar charts to visualize the percentage of cancelled bookings and not cancelled bookings because bar charts are effective for comparing the sizes or frequencies of different categories or groups of data. In this case, we wanted to compare the percentage of cancelled and not cancelled bookings across different categories.\n",
        "\n",
        "By using bar charts, we can easily compare the relative percentages of cancelled and not cancelled bookings within each category or group. The length of the bars represents the percentage, allowing for a quick visual understanding of the distribution. This helps us identify any significant differences or patterns among the categories or groups."
      ],
      "metadata": {
        "id": "amQstH2lnb4X"
      }
    },
    {
      "cell_type": "markdown",
      "source": [
        "##### 2. What is/are the insight(s) found from the chart?"
      ],
      "metadata": {
        "id": "lQ7QKXXCp7Bj"
      }
    },
    {
      "cell_type": "markdown",
      "source": [
        "The chart depicts a total of 87,230 bookings, out of which 24,009 bookings were cancelled, while 63,211 bookings were not cancelled. This indicates that 72.48% of the bookings were not cancelled, while 27.52% of the bookings were cancelled."
      ],
      "metadata": {
        "id": "7Cuibvq0npDq"
      }
    },
    {
      "cell_type": "markdown",
      "source": [
        "##### 3. Will the gained insights help creating a positive business impact?\n",
        "Are there any insights that lead to negative growth? Justify with specific reason."
      ],
      "metadata": {
        "id": "448CDAPjqfQr"
      }
    },
    {
      "cell_type": "markdown",
      "source": [
        "Yes, the insights gained from this analysis can help create a positive business impact. By analyzing the factors related to booking cancellations, such as the type of hotel and ADR (Average Daily Rate), we can identify areas for improvement and implement strategies to reduce cancellations. This can lead to increased customer satisfaction, improved revenue, and overall business growth.\n",
        "\n",
        "There are no specific insights mentioned that would lead to negative growth. The focus of the analysis is to identify areas for improvement and reduce booking cancellations, which is a positive objective for the business"
      ],
      "metadata": {
        "id": "5LcYGN7y2oJ7"
      }
    },
    {
      "cell_type": "markdown",
      "source": [
        "Chart - 2 Visualization the 'hotel' column (Univariate Analysis )"
      ],
      "metadata": {
        "id": "10AJ3LTzoaKl"
      }
    },
    {
      "cell_type": "code",
      "source": [
        "# Plotting graph on 'hotel' column\n",
        "df2 = df['hotel'].value_counts()\n",
        "x = df2.index\n",
        "y = df2.values\n",
        "\n",
        "plt.figure(figsize= (10,8))\n",
        "plots = sns.barplot(x=x, y=y/sum(y)*100)\n",
        "\n",
        "for bar in plots.patches:\n",
        "  plots.annotate(f'{format(bar.get_height(),\".1f\")}%',\n",
        "                 (bar.get_x() + bar.get_width()/2,bar.get_height()),\n",
        "                 size = 12, xytext = (0,8), ha ='center',va= 'center',\n",
        "                 textcoords = 'offset points')\n",
        "\n",
        "plt.title('Bookings basis on hotel type')\n",
        "plt.xlabel('Type of the hotel')\n",
        "plt.ylabel('Percentage of the bookings')\n",
        "plt.show()\n",
        "\n",
        "city_hotel_bookings = df2[0]\n",
        "resort_hotel_bookings = df2[1]\n",
        "\n",
        "print('the city hotel bookings are',city_hotel_bookings)\n",
        "print('the resort hotel bookings are',resort_hotel_bookings)\n",
        "print('the total bookings are',total_bookings)"
      ],
      "metadata": {
        "id": "y8p_7e8d4CTn"
      },
      "execution_count": null,
      "outputs": []
    },
    {
      "cell_type": "markdown",
      "source": [
        "##### 1. Why did you pick the specific chart?\n",
        "\n",
        "Bar charts are used to compare the size or frequency of different categories or groups of data. Bar charts are useful for comparing data across different categories, and they can be used to display a large amount of data in a small space.To show the percentage of bookings for city hotel and resort hotel."
      ],
      "metadata": {
        "id": "t6dVpIINYklI"
      }
    },
    {
      "cell_type": "markdown",
      "source": [
        "##### 2. What is/are the insight(s) found from the chart?\n",
        "\n",
        "\n",
        "From the observation, it can be inferred that the dataset contains two types of hotels: city hotels and resort hotels. The total number of bookings in the dataset is 87,230, out of which 53,274 bookings are for city hotels and 33,956 bookings are for resort hotels. This means that city hotels account for 61.1% of the bookings, while resort hotels account for 38.9%. The percentage of bookings for resort hotels is slightly lower compared to city hotels."
      ],
      "metadata": {
        "id": "ijmpgYnKYklI"
      }
    },
    {
      "cell_type": "code",
      "source": [],
      "metadata": {
        "id": "Pf4B-8q_vmk2"
      },
      "execution_count": null,
      "outputs": []
    },
    {
      "cell_type": "markdown",
      "source": [
        "3. Will the gained insights help creating a positive business impact?\n",
        "\n",
        "Are there any insights that lead to negative growth? Justify with specific reason."
      ],
      "metadata": {
        "id": "wpUGoAdWzeGb"
      }
    },
    {
      "cell_type": "markdown",
      "source": [
        "The gained insights can potentially help create a positive business impact. By understanding the booking patterns and the variations in guest arrivals by month, businesses can develop targeted marketing strategies and promotional offers to attract more guests during the months with lower bookings, such as January. By identifying the reasons behind the lower bookings in certain months, businesses can address any potential issues or challenges that may be impacting guest arrivals and take appropriate measures to improve the situation.\n",
        "\n",
        "Overall, the gained insights can provide valuable information for making informed business decisions, optimizing marketing strategies, and improving customer satisfaction, all of which can contribute to a positive business impact."
      ],
      "metadata": {
        "id": "GffrVoqVvnh4"
      }
    },
    {
      "cell_type": "markdown",
      "source": [
        "\n",
        "\n",
        "Chart - 3 Visualization on Country column (Univariate analysis)"
      ],
      "metadata": {
        "id": "EM7whBJCYoAo"
      }
    },
    {
      "cell_type": "code",
      "source": [
        "# Plotting graph on country column to know the proportion if bookings from the country basis\n",
        "df3 = df['country'].value_counts().head(15)\n",
        "x = df3.index\n",
        "y = df3.values\n",
        "plt.figure(figsize = (10,5))\n",
        "plots = sns.barplot(x =x, y= y/sum(y)* 100)\n",
        "\n",
        "for bar in plots.patches:\n",
        "  plots.annotate(f'{format(bar.get_height(),\".2f\")}%',\n",
        "                 (bar.get_x() + bar.get_width()/2, bar.get_height()),\n",
        "                 size = 10, xytext = (0,8), ha= 'center',va = 'center',\n",
        "                 textcoords = 'offset points')\n",
        "\n",
        "plt.title('Bookings of the guests from different countries')\n",
        "plt.xlabel('Country')\n",
        "plt.ylabel('percentage of the bookings')\n",
        "plt.show()\n",
        "\n",
        "for i,j in df3.items():\n",
        "  print(\"The country\",i,'having',j,'bookings')"
      ],
      "metadata": {
        "id": "Bdg8BB1AwpVz"
      },
      "execution_count": null,
      "outputs": []
    },
    {
      "cell_type": "markdown",
      "source": [
        "1. Why did you pick the specific chart?"
      ],
      "metadata": {
        "id": "Wxe6VGckw47U"
      }
    },
    {
      "cell_type": "markdown",
      "source": [
        "We chose to use a bar chart to display the percentage of bookings from the top 15 countries because bar charts are effective in comparing the frequency or size of different categories or groups of data. In this case, we wanted to compare the booking percentages across different countries and highlight the distribution of bookings among the top 15 countries.\n",
        "\n",
        "By using a bar chart, we can easily visualize and compare the booking percentages of each country, allowing us to identify the countries with the highest booking rates. This information can be valuable for business decisions, such as targeting specific markets or tailoring marketing strategies to attract guests from these countries."
      ],
      "metadata": {
        "id": "-Mp8zK9rw9cx"
      }
    },
    {
      "cell_type": "markdown",
      "source": [
        "##### 2. What is/are the insight(s) found from the chart?"
      ],
      "metadata": {
        "id": "85gYPyotYoAp"
      }
    },
    {
      "cell_type": "markdown",
      "source": [
        "From the above visualization, we analyzed the bookings of guests from different countries, focusing on the top 15 countries. The insights obtained are as follows:\n",
        "\n",
        "Highest Booking Percentage: The country with the highest booking percentage is PRT, accounting for 35.25% of the total bookings. This indicates a significant number of bookings coming from this country compared to others in the top 15 list.\n",
        "\n",
        "Distribution of Bookings: For the remaining countries in the top 15 list, the booking percentages range below 13.43%. This suggests a relatively even distribution of bookings among these countries, although they have lower percentages compared to PRT.\n",
        "\n",
        "Low Booking Percentages: Beyond the top 15 countries, the remaining countries have booking percentages of less than or equal to 1%. This indicates that these countries contribute a minimal portion of the total bookings.\n",
        "\n",
        "These insights help us understand the booking patterns and the significance of different countries in terms of generating bookings. It allows us to identify the countries with the highest potential and focus our marketing efforts accordingly."
      ],
      "metadata": {
        "id": "laQtXoe66X0C"
      }
    },
    {
      "cell_type": "markdown",
      "source": [
        "##### 3. Will the gained insights help creating a positive business impact?\n",
        "Are there any insights that lead to negative growth? Justify with specific reason."
      ],
      "metadata": {
        "id": "RoGjAbkUYoAp"
      }
    },
    {
      "cell_type": "markdown",
      "source": [
        "Yes the gained insights can help create postive business impact by analyzing the country wise booking analysis.we can identify the key patameters that are important to increase bookings.This information can be used to devise strategies and make improvements in areas that may lead to increased bookings and overall business growth.\n",
        "\n",
        "There are no insights from the given analysis that indicate negative growth. The focus is on identifying opportunities for improvement and maximizing bookings, which can have a positive impact on the business."
      ],
      "metadata": {
        "id": "HgURRxBd7aCI"
      }
    },
    {
      "cell_type": "markdown",
      "source": [
        "Chart - 4 Market Segment Analysis(Univariate analysis)"
      ],
      "metadata": {
        "id": "Mbhs2Lcc6_wy"
      }
    },
    {
      "cell_type": "code",
      "source": [
        "# visualization Market segment column to know the insights of the bookings(Univariate analysis)\n",
        "fig,ax = plt.subplots(figsize = (10,5))\n",
        "(df.groupby('market_segment').size()/sum(df['market_segment'].value_counts())*100).plot(kind = 'pie',autopct = '%0.2f%%',explode = [0,0.5,0.5,0,0,0,0])\n",
        "\n",
        "\n",
        "for i ,j in df['market_segment'].value_counts().items():\n",
        "  print('The Market segment is',i,'and the bookings are',j)"
      ],
      "metadata": {
        "id": "ZQvO506g7GRY"
      },
      "execution_count": null,
      "outputs": []
    },
    {
      "cell_type": "markdown",
      "source": [
        "1. Why did you pick the specific chart?"
      ],
      "metadata": {
        "id": "r5QuKUuk71Qd"
      }
    },
    {
      "cell_type": "markdown",
      "source": [
        "We chose to use a pie chart for the market segment analysis because it effectively displays the proportions of different market segments. Pie charts are particularly useful when presenting data that has already been calculated as a percentage of the whole. By using a pie chart, we were able to visualize the percentage comparison of market segments for the bookings in a clear and concise manner"
      ],
      "metadata": {
        "id": "VAMs744H8ELD"
      }
    },
    {
      "cell_type": "markdown",
      "source": [
        "2. What is/are the insight(s) found from the chart?"
      ],
      "metadata": {
        "id": "PCJAo3p18yI1"
      }
    },
    {
      "cell_type": "markdown",
      "source": [
        "The insights gained from the chart are as follows:\n",
        "\n",
        "      .The majority of the bookings, accounting for 59.102%, are made through Online Travel Agents (TA).\n",
        "      .Offline Travel Agents/ Tour Operators (TA/TO) account for 15.88% of the bookings.\n",
        "      .Direct bookings, made directly with the hotel, represent 13.50% of the total bookings.\n",
        "      .Other market segments, which include various categories like groups,corporates,complementery and aviation make up less than 5% of the bookings.\n",
        "\n",
        "\n",
        "These insights provide valuable information about the distribution of bookings among different market segments, highlighting the significant contribution of Online TA and the importance of direct bookings as well."
      ],
      "metadata": {
        "id": "ZLuWw7v48YAJ"
      }
    },
    {
      "cell_type": "markdown",
      "source": [
        "##### 3. Will the gained insights help creating a positive business impact?\n",
        "Are there any insights that lead to negative growth? Justify with specific reason."
      ],
      "metadata": {
        "id": "y-Ehk30pYrdP"
      }
    },
    {
      "cell_type": "markdown",
      "source": [
        "Yes, the gained insights can help create a positive business impact. Understanding the distribution of bookings among different market segments allows the hotel to focus its marketing and promotional efforts accordingly. By knowing that the majority of bookings come from Online TA, the hotel can allocate resources towards strengthening partnerships with online travel agencies and improving their online presence to attract more bookings. Additionally, identifying the market segments with lower percentages can help the hotel develop targeted strategies to increase bookings from those segments.\n",
        "\n",
        "As for insights leading to negative growth, there are no specific insights from this chart that suggest negative growth. The focus is on understanding and maximizing bookings from different market segments, which can contribute to overall business growth. However, it is important to consider other factors and conduct a comprehensive analysis to identify any potential challenges or areas for improvement that could affect business growth."
      ],
      "metadata": {
        "id": "jEr8N1ZP-2OC"
      }
    },
    {
      "cell_type": "markdown",
      "source": [
        "Chart - 5 Analysis on 'Reserved room type' (Univariate Analysis)"
      ],
      "metadata": {
        "id": "8r2MBlbt_3zS"
      }
    },
    {
      "cell_type": "code",
      "source": [
        "# Visualization on reserved room type colum to its bookings percentage\n",
        "df4 = df['reserved_room_type'].value_counts()\n",
        "x = df4.index\n",
        "y = df4.values\n",
        "plt.figure(figsize = (10,5))\n",
        "plots = sns.barplot(x= x,y= y/sum(y)*100)\n",
        "\n",
        "for bar in plots.patches:\n",
        "  plots.annotate(f'{format(bar.get_height(),\".2f\")}%',\n",
        "                 (bar.get_x() + bar.get_width()/2, bar.get_height()),\n",
        "                 size = 12, xytext = (0,8),ha = 'center',va = 'center',\n",
        "                 textcoords = 'offset points')\n",
        "\n",
        "plt.title('Bookings for reserved room type')\n",
        "plt.xlabel('Room type')\n",
        "plt.ylabel('Percentage of bookings')\n",
        "plt.show()\n",
        "\n",
        "for i,j in df4.items():\n",
        "  print('The reserved room type is',i,'and the bookings are',j)"
      ],
      "metadata": {
        "id": "Qxd6eLnKAyCl"
      },
      "execution_count": null,
      "outputs": []
    },
    {
      "cell_type": "markdown",
      "source": [
        "##### 1. Why did you pick the specific chart?"
      ],
      "metadata": {
        "id": "QHF8YVU7Yuh3"
      }
    },
    {
      "cell_type": "markdown",
      "source": [
        "To show the percentage of the reserved room types and their distribution in the bookings, we used bar charts. Bar charts are effective for comparing the size or frequency of different categories or groups of data. They allow us to easily compare data across different room types and provide a visual representation of the distribution of bookings among each type. By using bar charts, we can present the information in a clear and concise manner, making it easier for viewers to interpret and understand the data."
      ],
      "metadata": {
        "id": "oyWYHgKABOzn"
      }
    },
    {
      "cell_type": "markdown",
      "source": [
        "##### 2. What is/are the insight(s) found from the chart?"
      ],
      "metadata": {
        "id": "GwzvFGzlYuh3"
      }
    },
    {
      "cell_type": "markdown",
      "source": [
        "From the visualization, we can gather several insights:\n",
        "\n",
        "The majority of guests prefer Room Category A, which accounts for 64.70% of the bookings.\n",
        "Room Category D is the second most popular choice among guests, representing 19.92% of the bookings.\n",
        "The remaining room categories (B, C, E, F, G, H, and L) have relatively lower percentages, each accounting for less than 6% of the bookings.\n",
        "These insights provide an understanding of the distribution of room types preferred by guests. Hotel managers can use this information to assess the popularity of different room categories and make informed decisions regarding room availability, pricing strategies, and marketing efforts to maximize bookings and customer satisfaction."
      ],
      "metadata": {
        "id": "3EF8kde0BkFy"
      }
    },
    {
      "cell_type": "markdown",
      "source": [
        "3. Will the gained insights help creating a positive business impact?\n",
        "Are there any insights that lead to negative growth? Justify with specific reason."
      ],
      "metadata": {
        "id": "fjFxxkmqB15u"
      }
    },
    {
      "cell_type": "markdown",
      "source": [
        "The gained insights from the analysis can potentially create a positive business impact. By understanding that guests predominantly prefer Room Categories A and D, hotel managers can focus on enhancing these categories to attract more bookings and increase revenue. This could involve improving the amenities, aesthetics, and overall experience of these room types to align with customer preferences.\n",
        "\n",
        "Regarding the other room categories with lower percentages, it provides an opportunity for further investigation. Analyzing the reasons behind the lower demand for these categories can help identify any shortcomings or areas for improvement. This analysis can inform decision-making processes related to room renovations, pricing strategies, or targeted marketing campaigns to boost the popularity and occupancy rates of these less preferred room types.\n",
        "\n",
        "Overall, the insights gained from the analysis offer valuable information that can guide business strategies and initiatives to drive positive growth and improve the overall guest experience."
      ],
      "metadata": {
        "id": "JHcVCGStCEL6"
      }
    },
    {
      "cell_type": "markdown",
      "source": [
        "Chart - 6 Analysis on 'arrival month'(Univariate Analysis)"
      ],
      "metadata": {
        "id": "mRPJoOIiCRr1"
      }
    },
    {
      "cell_type": "code",
      "source": [
        "# Visulaization on arrival_date_month\n",
        "\n",
        "df6 = df['arrival_date_month'].value_counts()\n",
        "x = df6.index\n",
        "y = df6.values\n",
        "plt.figure(figsize = (13,7))\n",
        "plots = sns.barplot(x =x,y = y/sum(y)* 100)\n",
        "\n",
        "for bar in plots.patches:\n",
        "  plots.annotate(f'{format(bar.get_height(),\".1f\")}%',\n",
        "                 (bar.get_x()+ bar.get_width()/2, bar.get_height()),\n",
        "                 size = 10, xytext = (0,8), ha= 'center',\n",
        "                 va ='center',textcoords = 'offset points')\n",
        "\n",
        "for i , j in df6.items():\n",
        "  print('The arrival month of the guest is',i,'and its bookings are',j)"
      ],
      "metadata": {
        "id": "9k0HVBdtCaV2"
      },
      "execution_count": null,
      "outputs": []
    },
    {
      "cell_type": "markdown",
      "source": [
        "1. Why did you pick the specific chart?"
      ],
      "metadata": {
        "id": "aCoTRfWZCr_7"
      }
    },
    {
      "cell_type": "markdown",
      "source": [
        "We chose a bar chart for this analysis because it allows us to compare the size or frequency of different categories or groups of data effectively. Bar charts are especially useful when displaying a large amount of data in a limited space.\n",
        "\n",
        "In this case, we utilized a bar chart to represent the percentage of bookings based on the arrival month of the guests. By using this chart, we can easily compare the booking patterns across different months and identify any significant trends or variations in guest arrivals."
      ],
      "metadata": {
        "id": "V8zN_gjFC08r"
      }
    },
    {
      "cell_type": "markdown",
      "source": [
        "##### 2. What is/are the insight(s) found from the chart?"
      ],
      "metadata": {
        "id": "_ouA3fa0phqN"
      }
    },
    {
      "cell_type": "markdown",
      "source": [
        "The insights gained from the chart are as follows:\n",
        "\n",
        "The month of August has the highest percentage of guest arrivals, accounting for 12.9% of the total bookings. On the other hand, the month of January has the lowest percentage of guest arrivals, with only 5.4% of the total bookings. This indicates that there may be certain factors or trends that influence the booking patterns in different months. Further analysis can be performed to identify the reasons behind the lower bookings in January and explore strategies to increase the bookings percentage in the remaining months"
      ],
      "metadata": {
        "id": "7HFxgj9-DKNv"
      }
    },
    {
      "cell_type": "markdown",
      "source": [
        "##### 3. Will the gained insights help creating a positive business impact?\n",
        "Are there any insights that lead to negative growth? Justify with specific reason."
      ],
      "metadata": {
        "id": "Seke61FWphqN"
      }
    },
    {
      "cell_type": "markdown",
      "source": [
        "The gained insights can potentially help create a positive business impact. By understanding the booking patterns and the variations in guest arrivals by month, businesses can develop targeted marketing strategies and promotional offers to attract more guests during the months with lower bookings, such as January. By identifying the reasons behind the lower bookings in certain months, businesses can address any potential issues or challenges that may be impacting guest arrivals and take appropriate measures to improve the situation.\n",
        "\n",
        "Overall, the gained insights can provide valuable information for making informed business decisions, optimizing marketing strategies, and improving customer satisfaction, all of which can contribute to a positive business impact."
      ],
      "metadata": {
        "id": "ycSvRuhVDgRU"
      }
    },
    {
      "cell_type": "markdown",
      "source": [
        "Chart - 7 Analysis on 'total_people'(univariate analysis)"
      ],
      "metadata": {
        "id": "3hWNQgBMDvUw"
      }
    },
    {
      "cell_type": "code",
      "source": [
        "#Visualization on the total_people column\n",
        "df7 = df['total_number_of_people'].value_counts()\n",
        "x = df7.index\n",
        "y = df7.values\n",
        "\n",
        "plt.figure(figsize  =(10,5))\n",
        "plots = sns.barplot(x= x, y =y/sum(y) * 100)\n",
        "plt.title(\"Total number of persons for single booking\")\n",
        "plt.xlabel(\"Number of persons\")\n",
        "plt.ylabel(\"Percentage of bookings\")\n",
        "plt.show()\n",
        "\n",
        "for i,j in df7.items():\n",
        "  percentage = round(j/sum(df7.values)*100,2)\n",
        "  print(f'The number of people for a booking is {i} and the number of bookings are {j} i.e {percentage}%')"
      ],
      "metadata": {
        "id": "iyUrJYwDD841"
      },
      "execution_count": null,
      "outputs": []
    },
    {
      "cell_type": "markdown",
      "source": [
        "1. Why did you pick the specific chart?"
      ],
      "metadata": {
        "id": "k8256jn-EkfZ"
      }
    },
    {
      "cell_type": "markdown",
      "source": [
        "Bar charts are chosen to compare the size or frequency of different categories or groups of data. They are particularly useful for comparing data across categories and displaying a large amount of data in a compact manner.\n",
        "\n",
        "In this case, we used a bar chart to depict the percentage of the number of persons arriving for a single booking."
      ],
      "metadata": {
        "id": "JtHgVdaNEwl6"
      }
    },
    {
      "cell_type": "code",
      "source": [],
      "metadata": {
        "id": "4hNrT4KIE9O6"
      },
      "execution_count": null,
      "outputs": []
    },
    {
      "cell_type": "markdown",
      "source": [
        "2. What is/are the insight(s) found from the chart?"
      ],
      "metadata": {
        "id": "qfZO_DQOE93W"
      }
    },
    {
      "cell_type": "markdown",
      "source": [
        "From the above visualization, we can gather the following insights:\n",
        "\n",
        "The majority of bookings consist of 2 persons, accounting for a significant percentage. Single-person bookings also make up a considerable proportion, indicating a significant segment of solo travelers. Bookings with larger groups or bulk reservations (e.g., 40, 50, 55, or 6 people) are relatively rare, representing a smaller percentage of the total bookings"
      ],
      "metadata": {
        "id": "OiZkSglJFGkt"
      }
    },
    {
      "cell_type": "code",
      "source": [],
      "metadata": {
        "id": "zn53CuiAFua2"
      },
      "execution_count": null,
      "outputs": []
    },
    {
      "cell_type": "markdown",
      "source": [
        "3. Will the gained insights help creating a positive business impact?\n",
        "\n",
        "Are there any insights that lead to negative growth? Justify with specific reason."
      ],
      "metadata": {
        "id": "p3tCNioCFXE2"
      }
    },
    {
      "cell_type": "markdown",
      "source": [
        "Yes, the gained insights can help create a positive business impact. By understanding the distribution of the number of persons per booking, the hotel can tailor their offerings and services to accommodate the needs of different types of guests. For example, they can focus on providing amenities and packages suitable for double occupancy bookings, as it is the most common category. Additionally, they can explore strategies to attract group or bulk bookings, such as offering discounts or creating special packages for larger groups. These efforts can lead to increased bookings and revenue.\n",
        "\n",
        "There are no insights from the chart that directly indicate negative growth. However, it's important to monitor the trends and patterns in different categories of bookings over time to identify any potential areas of concern. For instance, if there is a significant decline in single-person bookings, it may indicate a need to reassess marketing strategies or amenities targeting solo travelers. Regular analysis and adaptation to changing market dynamics can help mitigate any negative impacts and ensure continued business growth."
      ],
      "metadata": {
        "id": "OYt5Ae9FD9lE"
      }
    },
    {
      "cell_type": "markdown",
      "source": [
        "## Chart - 8 Analysis on Total nigts stays column(Univariate Analysis)"
      ],
      "metadata": {
        "id": "FLSTOidbGdS5"
      }
    },
    {
      "cell_type": "code",
      "source": [
        "# Visualization on total_nights_stay for the bookings\n",
        "df8 = df['total_nights'].value_counts().sort_values(ascending = False).head(27)\n",
        "x = df8.index\n",
        "y = df8.values\n",
        "\n",
        "plt.figure(figsize = (15,8))\n",
        "plots = sns.barplot(x =x ,y =y/sum(y) * 100 )\n",
        "\n",
        "for bar in plots.patches:\n",
        "  plots.annotate(f'{format(bar.get_height(),\".2f\")}%',\n",
        "                 (bar.get_x() + bar.get_width()/2, bar.get_height()),\n",
        "                 size = 10, xytext = (0,8), ha ='center', va ='center',\n",
        "                 textcoords = 'offset points')\n",
        "\n",
        "plt.title(\"Total night stays for a booking\")\n",
        "plt.xlabel(\"Number of nights stayed\")\n",
        "plt.ylabel(\"Percentage of the bookings\")\n",
        "plt.show()\n",
        "\n",
        "for i, j in df8.items():\n",
        "  percentage = round(j / sum(df8.values)*100,2)\n",
        "  print(f'{j} i.e {percentage}% of bookings are having the total nights of stay - {i}')"
      ],
      "metadata": {
        "id": "gMNwmUu6GmZ6"
      },
      "execution_count": null,
      "outputs": []
    },
    {
      "cell_type": "markdown",
      "source": [
        "1. Why did you pick the specific chart?"
      ],
      "metadata": {
        "id": "D0Y21pOEGyzQ"
      }
    },
    {
      "cell_type": "markdown",
      "source": [
        "The statement is correct, bar charts are commonly used to compare the size or frequency of different categories or groups of data. They are effective in visualizing data across different categories and can display a large amount of information in a compact manner.\n",
        "\n",
        "Using a bar chart to show the percentage of total nights of stay for each booking allows for easy comparison and identification of patterns or trends. It provides a clear visual representation of the distribution of booking durations and helps understand the typical length of stay for guests."
      ],
      "metadata": {
        "id": "rA_aDXK_G6xv"
      }
    },
    {
      "cell_type": "markdown",
      "source": [
        "##### 2. What is/are the insight(s) found from the chart?"
      ],
      "metadata": {
        "id": "eZrbJ2SmphqO"
      }
    },
    {
      "cell_type": "markdown",
      "source": [
        "The insights gained from the chart are as follows:\n",
        "\n",
        "The majority of bookings (20.45%) have a duration of 3 nights, indicating that guests tend to prefer a short stay.\n",
        "Bookings with a duration of 1 night account for 19.69% of the total, suggesting that many guests opt for a quick overnight stay.\n",
        "Similarly, bookings with a duration of 2 nights make up 18.05% of the total, indicating a preference for a slightly longer stay.\n",
        "It is worth noting that there are a few bookings with an extended duration of 30 nights, although they represent a very small percentage (0.01%) of the total bookings.\n",
        "These insights provide valuable information about the distribution of booking durations and can help inform decision-making related to room availability, pricing strategies, and resource allocation for different lengths of stay."
      ],
      "metadata": {
        "id": "ji_Cght-Hpee"
      }
    },
    {
      "cell_type": "markdown",
      "source": [
        "3. Will the gained insights help creating a positive business impact?\n",
        "\n",
        "\n",
        "Are there any insights that lead to negative growth? Justify with specific reason."
      ],
      "metadata": {
        "id": "MoGd89qrH3BH"
      }
    },
    {
      "cell_type": "markdown",
      "source": [
        "The gained insights can indeed help create a positive business impact.\n",
        "\n",
        "By understanding the preferred durations of guests' stays, the hotel can tailor its offerings and services accordingly. For instance, the hotel can design packages or promotional deals specifically targeted at guests looking for stays of 3, 1, 2, 4, or 5 nights. This can help attract more bookings from these segments and increase the overall occupancy rate.\n",
        "\n",
        "Additionally, identifying the guests who prefer longer durations, such as corporate clients or extended-stay tourists, presents an opportunity to develop special rates or packages tailored to their needs. This can help attract and retain these valuable customers, leading to increased revenue and positive business growth."
      ],
      "metadata": {
        "id": "iFKzFAD_IGaE"
      }
    },
    {
      "cell_type": "markdown",
      "source": [
        "Chart - 9 Hotel and cancellation analysis to find the cancellation percentage for each hotel(Bivariate Analysis)"
      ],
      "metadata": {
        "id": "zILg_Xp-Ic2f"
      }
    },
    {
      "cell_type": "code",
      "source": [
        "#visualization on the Hotel analysis\n",
        "# Selecting and counting total cancelled booking for each hotel\n",
        "df_cancel = df[df['is_canceled'] == 1]\n",
        "cancel_grp = df_cancel.groupby('hotel')\n",
        "df_canceled = pd.DataFrame(cancel_grp.size()).rename(columns = {0:'total_cancelled_bookings'})\n",
        "\n",
        "# counting total number of bookings for each hotel\n",
        "df_total_bookings = pd.DataFrame(df.groupby('hotel').size()).rename(columns = {0 : 'total_bookings'})\n",
        "df_final = pd.concat([df_canceled,df_total_bookings],axis = 1)\n",
        "\n",
        "# calculating the percentage of canceled bookings and adding a new collumn to dataframe 'df_final'\n",
        "df_final['canceled %'] = round(df_final['total_cancelled_bookings']/df_final['total_bookings'] * 100,2)\n",
        "print(df_final)\n",
        "\n",
        "# plotting bar chart to represent the cancelled % of each hotel\n",
        "plt.figure(figsize = (8,5))\n",
        "plots = sns.barplot(x = df_final.index, y = df_final['canceled %'])\n",
        "for bar in plots.patches:\n",
        "  plots.annotate(f'{format(bar.get_height(),\".2f\")}%',\n",
        "                 (bar.get_x() + bar.get_width()/2, bar.get_height()),\n",
        "                 size = 10, xytext = (0,8),ha = 'center', va = 'center',\n",
        "                 textcoords = 'offset points')\n",
        "plt.title('Hotel and its canceled %')\n",
        "plt.xlabel('type of the hotel')\n",
        "plt.ylabel('percentage of the cancellation of bookings')\n",
        "plt.show()"
      ],
      "metadata": {
        "id": "aBkf_Gc4IhWq"
      },
      "execution_count": null,
      "outputs": []
    },
    {
      "cell_type": "markdown",
      "source": [
        "1. Why did you pick the specific chart?"
      ],
      "metadata": {
        "id": "LvbSfn92Ix18"
      }
    },
    {
      "cell_type": "markdown",
      "source": [
        "To represent the percentage of cancelled bookings for each type of hotel, we used a bar chart. Bar charts are an effective way to compare data across different categories or groups, making it easier to understand the distribution and proportion of cancelled bookings for each type of hotel."
      ],
      "metadata": {
        "id": "YTkI-F14I5Xi"
      }
    },
    {
      "cell_type": "markdown",
      "source": [
        "2. What is/are the insight(s) found from the chart?"
      ],
      "metadata": {
        "id": "gZ58wTIsJCtN"
      }
    },
    {
      "cell_type": "markdown",
      "source": [
        "From the visualization, we can gather the following insights: The percentage of cancelled bookings is higher for city hotels, with 30.10% of the total bookings being cancelled. In contrast, for resort hotels, the percentage of cancellations is 23.48%. This indicates that city hotels experience a relatively higher rate of cancellations compared to resort hotels."
      ],
      "metadata": {
        "id": "_V0NT4F9JH8B"
      }
    },
    {
      "cell_type": "markdown",
      "source": [
        "3. Will the gained insights help creating a positive business impact?\n",
        "\n",
        "Are there any insights that lead to negative growth? Justify with specific reason."
      ],
      "metadata": {
        "id": "4XS9CZR8JR2P"
      }
    },
    {
      "cell_type": "markdown",
      "source": [
        "The gained insights regarding the higher cancellation rate for city hotels compared to resort hotels can have a positive business impact. By identifying the factors contributing to the higher cancellation rate in city hotels, the hotel management can take proactive measures to address those issues. This may include improving the booking policies, enhancing customer service, or offering incentives to encourage guests to follow through with their reservations.\n",
        "\n",
        "Reducing the cancellation rate can lead to improved occupancy rates, increased revenue, and better customer satisfaction. It helps in optimizing resource allocation, such as staff scheduling and inventory management, as well as reducing the negative impact on other potential bookings that could have taken those canceled slots.\n",
        "\n",
        "Overall, the insights gained from analyzing the cancellation rates can provide valuable information for implementing strategies to minimize cancellations and maximize positive business impact."
      ],
      "metadata": {
        "id": "hkllU-ZrJfKE"
      }
    },
    {
      "cell_type": "markdown",
      "source": [
        "## Chart - 10 Analysis on reserved rooms and assigned rooms(Bivariate Analysis)"
      ],
      "metadata": {
        "id": "YJ55k-q6phqO"
      }
    },
    {
      "cell_type": "code",
      "source": [
        "# filtering the columns of reserved rooms and assigned rooms of True condition and creating new column as 'same room assigned'  for plotting a chart for analysis between them\n",
        "df['same_room_assigned'] = df['reserved_room_type']==df['assigned_room_type']\n",
        "\n",
        "plt.figure(figsize = (12,8))\n",
        "sns.countplot(x= df['total_nights'], hue = df['same_room_assigned'])\n",
        "plt.show()"
      ],
      "metadata": {
        "id": "rUy5xsfjKMbQ"
      },
      "execution_count": null,
      "outputs": []
    },
    {
      "cell_type": "code",
      "source": [
        "# total nights of stay when same room is alloted which is reserved while booking\n",
        "same_room_assigned = df[df['reserved_room_type'] == df['assigned_room_type']]\n",
        "plt.figure(figsize = (10,8))\n",
        "sns.countplot(x= same_room_assigned['total_nights'], hue = same_room_assigned['hotel'])\n",
        "plt.show()\n",
        "\n",
        "for i, j in same_room_assigned['total_nights'].value_counts().items():\n",
        "  print(f'The total nights of stay {i} are having the bookings of {j}')"
      ],
      "metadata": {
        "id": "VRRX0iRuKY1w"
      },
      "execution_count": null,
      "outputs": []
    },
    {
      "cell_type": "code",
      "source": [
        "# total nights of stay when same room is not alloted which is reserved while booking the hotel\n",
        "same_room_not_assigned = df[df['reserved_room_type'] != df['assigned_room_type']]\n",
        "plt.figure(figsize = (10,8))\n",
        "sns.countplot(x= same_room_not_assigned['total_nights'], hue = same_room_not_assigned['hotel'])\n",
        "plt.show()\n",
        "\n",
        "for i, j in same_room_not_assigned['total_nights'].value_counts().items():\n",
        "  print(f'The total nights of stay {i} is having the bookings of {j}')"
      ],
      "metadata": {
        "id": "1JSoD_wyKiBB"
      },
      "execution_count": null,
      "outputs": []
    },
    {
      "cell_type": "markdown",
      "source": [
        "##### 1. Why did you pick the specific chart?"
      ],
      "metadata": {
        "id": "gCFgpxoyphqP"
      }
    },
    {
      "cell_type": "markdown",
      "source": [
        "Counter plots are used for creating bar plots to visualize the count or frequency of categorical variables in a dataset. It is particularly useful when we want to analyze the distribution of categorical data and compare the counts across different categories/numerical values.In this charts we can work with multiple parameters, to increase the visibility of the comparability.\n",
        "\n",
        "To show the comparability of total nights stayed when the same room alloted to guest when he reserved the room and its count of the bookings."
      ],
      "metadata": {
        "id": "TVxDimi2phqP"
      }
    },
    {
      "cell_type": "markdown",
      "source": [
        "##### 2. What is/are the insight(s) found from the chart?"
      ],
      "metadata": {
        "id": "OVtJsKN_phqQ"
      }
    },
    {
      "cell_type": "markdown",
      "source": [
        "Based on the insights from the chart, it can be observed that there is a significant difference in the number of bookings where the same room is assigned and reserved while booking compared to cases where the same room is not assigned.\n",
        "\n",
        "For the \"same room assigned\" analysis, there are 15,500 bookings in the city hotel type and 5,000 bookings in the resort hotel type. This indicates that a substantial number of guests prefer to have the same room they reserved during the booking process, especially in city hotels.\n",
        "\n",
        "On the other hand, for the \"same room not assigned\" analysis, there are 1,700 bookings in the city hotel type and 2,500 bookings in the resort hotel type. This suggests that a smaller proportion of guests are flexible or open to being assigned a different room than the one they reserved while making the booking.\n",
        "\n",
        "These insights provide an understanding of customer preferences regarding room assignments and can be useful for hotel management in terms of managing room allocation and addressing customer expectations."
      ],
      "metadata": {
        "id": "ngGi97qjphqQ"
      }
    },
    {
      "cell_type": "markdown",
      "source": [
        "##### 3. Will the gained insights help creating a positive business impact?\n",
        "Are there any insights that lead to negative growth? Justify with specific reason."
      ],
      "metadata": {
        "id": "lssrdh5qphqQ"
      }
    },
    {
      "cell_type": "markdown",
      "source": [
        "The gained insights from the analysis can indeed help create a positive business impact. By understanding that guests prefer having the same room they reserved during the booking process, hotel management can focus on optimizing their room assignment systems and processes to meet this expectation. This can lead to increased customer satisfaction, improved guest experiences, and potentially higher customer loyalty and repeat bookings.\n",
        "\n",
        "On the other hand, the analysis does not directly provide insights that lead to negative growth. However, if the hotel fails to meet the expectation of assigning the same room as reserved, it may result in customer dissatisfaction and potentially negative reviews or reduced customer loyalty. Therefore, it is important for hotels to take these insights into account and strive to provide consistent room assignments to align with customer expectations."
      ],
      "metadata": {
        "id": "tBpY5ekJphqQ"
      }
    },
    {
      "cell_type": "markdown",
      "source": [
        "# Chart - 11 Analysis on total nights stay for not cancelled bookings(Bivariate analysis)"
      ],
      "metadata": {
        "id": "U2RJ9gkRphqQ"
      }
    },
    {
      "cell_type": "code",
      "source": [
        "# Chart - 10 visualization code\n",
        "# filtering on not cancelled bookings less than 15 total nights for the each hotel type\n",
        "temp_df = df[df['is_canceled'] == 0 ]\n",
        "temp_15 = temp_df[temp_df['total_nights'] < 15]\n",
        "plt.figure(figsize = (10,5))\n",
        "sns.histplot(x = temp_df['total_nights'],bins=15, alpha=0.7,hue = temp_15['hotel'])\n",
        "plt.show()"
      ],
      "metadata": {
        "id": "GM7a4YP4phqQ"
      },
      "execution_count": null,
      "outputs": []
    },
    {
      "cell_type": "markdown",
      "source": [
        "##### 1. Why did you pick the specific chart?"
      ],
      "metadata": {
        "id": "1M8mcRywphqQ"
      }
    },
    {
      "cell_type": "markdown",
      "source": [
        "A histogram is a graphical representation of the distribution of a dataset. It is commonly used to visualize the frequency or count of values falling within specific intervals or bins. Histograms are especially useful for understanding the shape, central tendency, and variability of the data.The main purpose of a histogram is to provide a visual summary of the underlying data distribution. By organizing data into bins and representing the count or frequency of values in each bin, a histogram allows us to observe patterns, trends, and outliers in the data.we chose this plot to find the frequeny of bookings which comes under total room nights for a single booking."
      ],
      "metadata": {
        "id": "8agQvks0phqQ"
      }
    },
    {
      "cell_type": "markdown",
      "source": [
        "##### 2. What is/are the insight(s) found from the chart?"
      ],
      "metadata": {
        "id": "tgIPom80phqQ"
      }
    },
    {
      "cell_type": "markdown",
      "source": [
        "From the analysis of the chart, we can observe that the majority of the not cancelled bookings have a stay duration of 3, 1, 2, or 4 nights. These durations appear to be the most common choices for guests who do not cancel their bookings.Additionally, this insight can guide revenue management strategies, such as optimizing pricing and availability for the popular stay durations, and ensuring that the hotel is prepared to accommodate guests during those periods."
      ],
      "metadata": {
        "id": "Qp13pnNzphqQ"
      }
    },
    {
      "cell_type": "markdown",
      "source": [
        "##### 3. Will the gained insights help creating a positive business impact?\n",
        "Are there any insights that lead to negative growth? Justify with specific reason."
      ],
      "metadata": {
        "id": "JMzcOPDDphqR"
      }
    },
    {
      "cell_type": "markdown",
      "source": [
        "Yes, the gained insights can help create a positive business impact. By identifying the preferred durations of stay for not cancelled bookings, the hotel can tailor their offerings and promotions to align with these popular durations. This can attract more guests and increase the overall occupancy rate, leading to positive business growth.\n",
        "\n",
        "There are no specific insights that indicate negative growth. However, it is important for the hotel to also consider other factors such as room availability, pricing, and customer preferences to ensure a well-rounded strategy for maximizing bookings and revenue"
      ],
      "metadata": {
        "id": "R4Ka1PC2phqR"
      }
    },
    {
      "cell_type": "markdown",
      "source": [
        "Chart - 12 Analysis to find the waiting period of the bookings(Bivariate Analysis)"
      ],
      "metadata": {
        "id": "x-EpHcCOp1ci"
      }
    },
    {
      "cell_type": "code",
      "source": [
        "# getting waiting list for each hotel type\n",
        "temp_df = df.groupby('hotel')['days_in_waiting_list'].agg(np.mean).reset_index().rename(columns = {'days_in_waiting_list':'avg_waiting_period'})\n",
        "print(temp_df)\n",
        "plt.figure(figsize = (5,5))\n",
        "plots = sns.barplot(x = temp_df['hotel'], y = temp_df['avg_waiting_period'] )\n",
        "for bar in plots.patches:\n",
        "  plots.annotate(format(bar.get_height(),\".1f\"),\n",
        "                        (bar.get_x()+ bar.get_width()/2,bar.get_height()),\n",
        "                        size = 10, xytext = (0,8), ha = 'center', va = 'center',\n",
        "                          textcoords = 'offset points')"
      ],
      "metadata": {
        "id": "mAQTIvtqp1cj"
      },
      "execution_count": null,
      "outputs": []
    },
    {
      "cell_type": "markdown",
      "source": [
        "Analysis on is_repeated_guest to find the cummulative business (Bivariate Analysis)"
      ],
      "metadata": {
        "id": "yZU7ItUpIaXC"
      }
    },
    {
      "cell_type": "code",
      "source": [
        "# calculating the number of repeated guests to the each hotel type by using the 'is_repeated_guest' column and filtering it\n",
        "repeated_guest = df[df['is_repeated_guest']== 1]\n",
        "temp_repeated_guest = pd.DataFrame(repeated_guest.groupby('hotel').size()).rename(columns = {0: 'total repeated guest'})\n",
        "\n",
        "# calculating the total number of bookings for each type of the hotel\n",
        "total_bookings = pd.DataFrame(df.groupby('hotel').size()).rename(columns = {0:'total bookings'})\n",
        "\n",
        "# concatinating the two dataframes for plotting the graph\n",
        "repeated_guest_to_hotel = pd.concat([temp_repeated_guest,total_bookings], axis = 1)\n",
        "\n",
        "# calculating the percentage of the guests returned to each type of the hotel\n",
        "repeated_guest_to_hotel['return %'] = (repeated_guest_to_hotel['total repeated guest']/repeated_guest_to_hotel['total bookings']) * 100\n",
        "\n",
        "print(repeated_guest_to_hotel)\n",
        "\n",
        "# plotting the graph for the above dataframe\n",
        "plt.figure(figsize = (8,5))\n",
        "sns.barplot(x = repeated_guest_to_hotel.index, y = repeated_guest_to_hotel['return %'])"
      ],
      "metadata": {
        "id": "8rSXT_U4Ih1P"
      },
      "execution_count": null,
      "outputs": []
    },
    {
      "cell_type": "markdown",
      "source": [
        "##### 1. Why did you pick the specific chart?"
      ],
      "metadata": {
        "id": "X_VqEhTip1ck"
      }
    },
    {
      "cell_type": "markdown",
      "source": [
        "We chose to use a bar chart to display the average waiting period in days for each type of hotel and the percentage of repeated guests for each hotel. Bar charts are effective in comparing the size or frequency of different categories or groups of data, making them suitable for visualizing these metrics. Additionally, bar charts allow us to present a large amount of data in a compact format."
      ],
      "metadata": {
        "id": "-vsMzt_np1ck"
      }
    },
    {
      "cell_type": "markdown",
      "source": [
        "##### 2. What is/are the insight(s) found from the chart?"
      ],
      "metadata": {
        "id": "8zGJKyg5p1ck"
      }
    },
    {
      "cell_type": "markdown",
      "source": [
        "The insights gained from the chart are as follows:\n",
        "\n",
        "The average waiting period for guests in the city type hotel is 1 day, while for the resort type hotel, it is 0.3 days. This indicates that guests in the resort hotel tend to have shorter waiting periods compared to guests in the city hotel.\n",
        "The percentage of repeated guests in the city hotel is 3%, with 1657 out of 53274 bookings being from repeated guests. In contrast, the resort hotel has a higher percentage of repeated guests at 5%, with 1707 out of 33956 bookings coming from repeat visitors. This suggests that the resort hotel may have a higher level of guest loyalty and satisfaction, leading to a higher rate of repeat bookings.\n",
        "\n",
        "\n",
        "Overall, these insights provide information on the average waiting period and guest loyalty for each type of hotel, which can be used to make informed business decisions and improve customer satisfaction."
      ],
      "metadata": {
        "id": "ZYdMsrqVp1ck"
      }
    },
    {
      "cell_type": "markdown",
      "source": [
        "##### 3. Will the gained insights help creating a positive business impact?\n",
        "Are there any insights that lead to negative growth? Justify with specific reason."
      ],
      "metadata": {
        "id": "PVzmfK_Ep1ck"
      }
    },
    {
      "cell_type": "markdown",
      "source": [
        "Yes, the gained insights can help create a positive business impact. By focusing on reducing the waiting period and providing prompt room allocation, the hotel can enhance the guest experience and satisfaction. This can lead to positive word-of-mouth, increased customer loyalty, and ultimately, a positive impact on the hotel's reputation and business growth.\n",
        "\n",
        "The higher percentage of repeated guests in the resort hotel compared to the city hotel is also a positive insight. It indicates that the resort hotel has successfully built a loyal customer base, which can contribute to repeat bookings and increased revenue."
      ],
      "metadata": {
        "id": "druuKYZpp1ck"
      }
    },
    {
      "cell_type": "markdown",
      "source": [
        "#### Chart - 13 Analysis on Average Daily Rate(ADR)(Bivariate Analysis)"
      ],
      "metadata": {
        "id": "n3dbpmDWp1ck"
      }
    },
    {
      "cell_type": "code",
      "source": [
        "\n",
        "#Visualization on the ADR column by calclulating mean of adr\n",
        "temp = df.groupby('hotel')['adr'].mean().reset_index().rename(columns = {'adr' :'avg_adr'})\n",
        "print(temp)\n",
        "plt.figure(figsize = (8,5))\n",
        "sns.barplot(x = temp['hotel'], y = temp['avg_adr'])"
      ],
      "metadata": {
        "id": "bwevp1tKp1ck"
      },
      "execution_count": null,
      "outputs": []
    },
    {
      "cell_type": "code",
      "source": [
        "# Filtering the hotel and is_cancelled columns and storing them in separate variables\n",
        "df_city = df[(df['hotel'] == 'City Hotel') & (df['is_canceled'] == 0)]\n",
        "df_resort = df[(df['hotel'] == 'Resort Hotel') & (df['is_canceled'] == 0)]\n",
        "\n",
        "# calculating the mean of the df_city & df_resort variables and storing them in new varibles\n",
        "city = df_city.groupby('arrival_date_month')['adr'].mean().reset_index()\n",
        "resort = df_resort.groupby('arrival_date_month')['adr'].mean().reset_index()\n",
        "\n",
        "# merging the both variables basis on the same column of arrival_date_month\n",
        "hotel  = city.merge(resort,on='arrival_date_month')\n",
        "\n",
        "# renaming the columns in the hotel variable\n",
        "hotel.columns = ['month','price_for_city','price_for_resort']\n",
        "\n",
        "# creating new variable of months\n",
        "months = ['January','Febraury','March','April','May','June','July','August','September','October','November','December']\n",
        "\n",
        "# assigning the month column to the new variable of months column and categorizing the column baisis of it\n",
        "hotel['month'] = pd.Categorical(hotel['month'],categories = months,ordered = True)\n",
        "hotel = hotel.sort_values('month').reset_index()\n",
        "plt.figure(figsize = (15,8))\n",
        "print(hotel)\n",
        "# plotting the line chart for the comparison of the city and resort hotel type with adr monthly wise\n",
        "sns.lineplot(data = hotel, x ='month', y ='price_for_city')\n",
        "sns.lineplot(data = hotel, x ='month', y ='price_for_resort')\n",
        "plt.ylabel('adr')\n",
        "plt.legend(['Resort','city hotel'])\n",
        "plt.show()"
      ],
      "metadata": {
        "id": "iuBZKb0fKBZ6"
      },
      "execution_count": null,
      "outputs": []
    },
    {
      "cell_type": "code",
      "source": [
        "# visulization of average adr on monthly basis\n",
        "temp_df = df.groupby('arrival_date_month',as_index =False)['adr'].mean()\n",
        "plt.figure(figsize = (10,8))\n",
        "print(temp_df.sort_values(by = 'adr',ascending = False))\n",
        "ax = sns.barplot(data = temp_df , x = 'arrival_date_month', y = 'adr')\n",
        "ax.set_title('Month and avg_adr')\n",
        "plt.show()"
      ],
      "metadata": {
        "id": "SUN88g90KLCp"
      },
      "execution_count": null,
      "outputs": []
    },
    {
      "cell_type": "code",
      "source": [
        "# visualization of average adr with total nights of stay\n",
        "temp_df = df.groupby('total_nights', as_index = False)['adr'].mean().head(20)\n",
        "# plotting graph for the 20 total nights of stay for the booking\n",
        "print(temp_df.sort_values(by = 'adr',ascending = False))\n",
        "plt.figure(figsize = (10,8))\n",
        "ax = sns.barplot(data = temp_df , x ='total_nights', y = 'adr')\n",
        "ax.set_title('Total nights and average adr')"
      ],
      "metadata": {
        "id": "Hxg3wGFfKRYj"
      },
      "execution_count": null,
      "outputs": []
    },
    {
      "cell_type": "code",
      "source": [
        "#visualization of average adr and the country of the bookings\n",
        "temp_df = df.groupby('country', as_index = False)['adr'].mean()\n",
        "temp_df.sort_values(by = 'adr',inplace = True,ascending = False)\n",
        "print(temp_df)\n",
        "# plotting graph for the top 15 countries with adr\n",
        "plt.figure(figsize = (10,8))\n",
        "ax = sns.barplot(data = temp_df ,x = temp_df['country'][:15], y= 'adr')\n",
        "ax.set_title('Country and average adr')"
      ],
      "metadata": {
        "id": "vbwKrGsiKXom"
      },
      "execution_count": null,
      "outputs": []
    },
    {
      "cell_type": "code",
      "source": [
        "# visualization of average adr and the total number of people for a booking\n",
        "temp_df = df.groupby('total_number_of_people',as_index = False)['adr'].mean()\n",
        "temp_df.sort_values(by ='adr',ascending = False, inplace = True)\n",
        "print(temp_df)\n",
        "# plotting line graph for the adr and total persons for a booking\n",
        "ax = sns.lineplot(x = temp_df['total_number_of_people'][:10], y= temp_df['adr'])\n",
        "ax.set_title('total persons per booking to the average adr')\n",
        "ax.set_ylabel('avg_adr')"
      ],
      "metadata": {
        "id": "s76-fcAYKeVN"
      },
      "execution_count": null,
      "outputs": []
    },
    {
      "cell_type": "code",
      "source": [
        "# Analysis on yearly adr of each hotel type\n",
        "temp_df = df.groupby(['arrival_date_year','hotel'])['adr'].sum().reset_index()\n",
        "temp_df\n",
        "print(temp_df)\n",
        "plt.figure(figsize = (10,8))\n",
        "sns.barplot(data = temp_df, x = temp_df['arrival_date_year'], y = temp_df['adr'],hue = temp_df['hotel'])"
      ],
      "metadata": {
        "id": "aiTm5FTYKkSe"
      },
      "execution_count": null,
      "outputs": []
    },
    {
      "cell_type": "markdown",
      "source": [
        "##### 1. Why did you pick the specific chart?"
      ],
      "metadata": {
        "id": "ylSl6qgtp1ck"
      }
    },
    {
      "cell_type": "markdown",
      "source": [
        "Bar charts are used to compare the size or frequency of different categories or groups of data. Bar charts are useful for comparing data across different categories, and they can be used to display a large amount of data in a small space. we used this chart with average adr and compare with a hotel type, to calculate monthly basis adr, to know the insights of country basis adr,and total nights basis.\n",
        "\n",
        "Line plots, also known as line charts or line graphs, are used to visualize the relationship between two continuous variables. They are commonly used to show trends over time or to display the continuous relationship between two variables. We used this chart with average adr on monthly basis with respect to hotel type and number of people to the avg adr."
      ],
      "metadata": {
        "id": "m2xqNkiQp1ck"
      }
    },
    {
      "cell_type": "markdown",
      "source": [
        "##### 2. What is/are the insight(s) found from the chart?"
      ],
      "metadata": {
        "id": "ZWILFDl5p1ck"
      }
    },
    {
      "cell_type": "markdown",
      "source": [
        "The insights from the analysis are as follows:\n",
        "\n",
        "The average daily rate (ADR) is higher for city hotels (111.2) compared to resort hotels (99.05).\n",
        "In terms of monthly ADR, the highest value of 180 is observed in August for city hotels, while for resort hotels, the highest ADR ranges from 120 in May to September.\n",
        "The overall highest monthly ADR is 140, regardless of the hotel type. When considering the total nights of a booking, the maximum ADR of 120 is observed for bookings with a duration of 6 nights.\n",
        "The country with the highest ADR is DJI, with an average rate of 270.\n",
        "The ADR varies based on the number of people in a booking, and the highest ADR of 210 is observed for bookings with 5 people.\n",
        "In terms of yearly ADR, the city hotel type reached its highest value of 2,885,999.28 in 2016, while the resort hotel type had a peak ADR of 1,417,106.56 in the same year.\n",
        "These insights provide valuable information about the average daily rates and their variations based on different factors such as hotel type, month, total nights of stay, country, number of people, and year. This information can be used to make strategic decisions related to pricing, marketing, and resource allocation to maximize business impact."
      ],
      "metadata": {
        "id": "x-lUsV2mp1ck"
      }
    },
    {
      "cell_type": "markdown",
      "source": [
        "##### 3. Will the gained insights help creating a positive business impact?\n",
        "Are there any insights that lead to negative growth? Justify with specific reason."
      ],
      "metadata": {
        "id": "M7G43BXep1ck"
      }
    },
    {
      "cell_type": "markdown",
      "source": [
        "The gained insights can indeed help create a positive business impact. Here's how:\n",
        "\n",
        "Targeting high-demand months: By identifying that the months of June, July, August, and September have higher business potential, the company can focus its marketing efforts and allocate resources to maximize revenue during these periods. This can include offering special promotions, discounts, or packages tailored to attract more customers during these peak months.\n",
        "\n",
        "Developing low-demand months: Identifying the months of November, December, January, and February as lower business periods allows the company to strategize and plan marketing campaigns or initiatives to boost occupancy and revenue during these off-peak seasons. This could involve offering winter-specific packages, holiday-themed promotions, or incentives for specific events or occasions during these months.\n",
        "\n",
        "Maximizing revenue from different group sizes: Recognizing that the average daily rate is higher for bookings with 1-5 members and 5-10 members, the company can tailor its pricing and marketing strategies to attract more bookings from these group sizes. This could involve creating customized packages, offering discounts for group bookings, or providing additional amenities or services tailored to the needs of these groups.\n",
        "\n",
        "However, it's important to note that the analysis does not reveal any insights that would directly lead to negative growth. Rather, the insights provide opportunities for targeted marketing, pricing optimization, and resource allocation to enhance business performance and capture untapped potential during specific months or with different group sizes."
      ],
      "metadata": {
        "id": "5wwDJXsLp1cl"
      }
    },
    {
      "cell_type": "markdown",
      "source": [
        "Cancellation Analysis (Bivariate Analysis)"
      ],
      "metadata": {
        "id": "1y_QEeglLe99"
      }
    },
    {
      "cell_type": "code",
      "source": [
        "# Visualization of cancelled bookings with respective to market segment\n",
        "\n",
        "# filtering the cancelled bookings from the df with market segment basis and storing them as a dataframe in new variable\n",
        "cancelled_data = df[df['is_canceled'] == 1]\n",
        "cancelled_bookings= pd.DataFrame(cancelled_data.groupby('market_segment').size()).rename(columns = {0:'cancelled bookings'})\n",
        "\n",
        "# filtering the total bookings on market segment basis\n",
        "total_bookings = pd.DataFrame(df.groupby('market_segment').size()).rename(columns= {0:'total bookings'})\n",
        "\n",
        "# concatinating the two variables\n",
        "market_segment_bookings = pd.concat([cancelled_bookings,total_bookings],axis = 1)\n",
        "\n",
        "# getting the percentage cancelled bookings on the basis of market segment\n",
        "market_segment_bookings['cancelled %'] = round((market_segment_bookings['cancelled bookings']/(market_segment_bookings['total bookings']))*100,3)\n",
        "print(market_segment_bookings)\n",
        "# plotting a\n",
        "plt.figure(figsize= (8,5))\n",
        "plots = sns.barplot(data = market_segment_bookings, x =market_segment_bookings.index , y = 'cancelled %')\n",
        "for bar in plots.patches:\n",
        "  plots.annotate(f'{format(bar.get_height(),\".2f\")}%',\n",
        "                 (bar.get_x() + bar.get_width()/2, bar.get_height()),\n",
        "                 size = 10, xytext = (0,8), ha = 'center', va= 'center', textcoords = 'offset points')\n",
        "plt.show()"
      ],
      "metadata": {
        "id": "RAS2hPbcLh5x"
      },
      "execution_count": null,
      "outputs": []
    },
    {
      "cell_type": "code",
      "source": [
        "# visualization on cancelled bookings with respect to lead time months\n",
        "# filtering the cancelled bookings\n",
        "cancelled_data= df[df['is_canceled'] == 1]\n",
        "cancelled_bookings = pd.DataFrame(cancelled_data.groupby('lead_time_months').size()).rename(columns = {0:'cancelled bookings'})\n",
        "\n",
        "# counting the total number of bookings with repective to the lead time month\n",
        "total_bookings = pd.DataFrame(df.groupby('lead_time_months').size()).rename(columns = {0 : 'total bookings'})\n",
        "\n",
        "# concatinating the two dataframes\n",
        "data = pd.concat([cancelled_bookings,total_bookings], axis = 1 )\n",
        "\n",
        "# calculating the cancelled percentage of the bookings\n",
        "data['canceled %'] = round((data['cancelled bookings'] / data['total bookings']) * 100,2)\n",
        "print(data)\n",
        "# plotting the graph for the data\n",
        "plt.figure(figsize = (10,5))\n",
        "sns.lineplot(data =data ,x = data.index , y = data['canceled %'])\n",
        "plt.show()"
      ],
      "metadata": {
        "id": "kMIEjipALwN6"
      },
      "execution_count": null,
      "outputs": []
    },
    {
      "cell_type": "code",
      "source": [
        "# visualization on cancelled bookings with respect to deposit type\n",
        "# filtering the cancelled bookings\n",
        "cancelled_data= df[df['is_canceled'] == 1]\n",
        "cancelled_bookings = pd.DataFrame(cancelled_data.groupby('deposit_type').size()).rename(columns = {0:'cancelled bookings'})\n",
        "\n",
        "# counting the total number of bookings with repective to the deposit type\n",
        "total_bookings = pd.DataFrame(df.groupby('deposit_type').size()).rename(columns = {0 : 'total bookings'})\n",
        "\n",
        "# concatinating the two dataframes\n",
        "data = pd.concat([cancelled_bookings,total_bookings], axis = 1 )\n",
        "\n",
        "# calculating the cancelled percentage of the bookings\n",
        "data['canceled %'] = round((data['cancelled bookings'] / data['total bookings']) * 100,2)\n",
        "print(data)\n",
        "\n",
        "# plotting the graph for the data\n",
        "plt.figure(figsize = (8,5))\n",
        "plots = sns.barplot(data =data ,x = data.index , y = data['canceled %'])\n",
        "for bar in plots.patches:\n",
        "  plots.annotate(f'{format(bar.get_height(),\".2f\")}%',\n",
        "                 (bar.get_x() + bar.get_width()/2, bar.get_height()),\n",
        "                 size = 10, xytext = (0,8), ha = 'center', va= 'center', textcoords = 'offset points')"
      ],
      "metadata": {
        "id": "jEiyoGWfMGGa"
      },
      "execution_count": null,
      "outputs": []
    },
    {
      "cell_type": "code",
      "source": [
        "# visualization on cancelled bookings with respect to previous cancelled bookings\n",
        "# filtering the cancelled bookings\n",
        "cancelled_data= df[df['is_canceled'] == 1]\n",
        "cancelled_bookings = pd.DataFrame(cancelled_data.groupby('is_previously_cancelled').size()).rename(columns = {0:'cancelled bookings'})\n",
        "\n",
        "# counting the total number of bookings with repective to the previously cancelled bookings\n",
        "total_bookings = pd.DataFrame(df.groupby('is_previously_cancelled').size()).rename(columns = {0 : 'total bookings'})\n",
        "\n",
        "# concatinating the two dataframes\n",
        "data = pd.concat([cancelled_bookings,total_bookings], axis = 1 )\n",
        "\n",
        "# calculating the cancelled percentage of the bookings\n",
        "data['canceled %'] = round((data['cancelled bookings'] / data['total bookings']) * 100,2)\n",
        "print(data)\n",
        "# plotting the graph for the data\n",
        "plt.figure(figsize = (10,5))\n",
        "plots = sns.barplot(data =data ,x = data.index , y = data['canceled %'])\n",
        "for bar in plots.patches:\n",
        "  plots.annotate(f'{format(bar.get_height(),\".2f\")}%',\n",
        "                 (bar.get_x() + bar.get_width()/2, bar.get_height()),\n",
        "                 size = 10, xytext = (0,8), ha ='center', va= 'center', textcoords = 'offset points')\n",
        "plt.show()"
      ],
      "metadata": {
        "id": "OHfs8UY6MUPj"
      },
      "execution_count": null,
      "outputs": []
    },
    {
      "cell_type": "code",
      "source": [
        "# visualization on cancelled bookings with respect to the repeated guest\n",
        "# filtering the cancelled bookings\n",
        "cancelled_data= df[df['is_canceled'] == 1]\n",
        "cancelled_bookings = pd.DataFrame(cancelled_data.groupby('is_repeated_guest').size()).rename(columns = {0:'cancelled bookings'})\n",
        "\n",
        "# counting the total number of bookings with repective to the repeated guest\n",
        "total_bookings = pd.DataFrame(df.groupby('is_repeated_guest').size()).rename(columns = {0 : 'total bookings'})\n",
        "\n",
        "# concatinating the two dataframes\n",
        "data = pd.concat([cancelled_bookings,total_bookings], axis = 1 )\n",
        "\n",
        "# calculating the cancelled percentage of the bookings\n",
        "data['canceled %'] = round((data['cancelled bookings'] / data['total bookings']) * 100,2)\n",
        "print(data)\n",
        "# plotting the graph for the data\n",
        "plt.figure(figsize = (10,5))\n",
        "plots = sns.barplot(data =data ,x = data.index , y = data['canceled %'])\n",
        "for bar in plots.patches:\n",
        "  plots.annotate(f'{format(bar.get_height(),\".2f\")}%',\n",
        "                 (bar.get_x() + bar.get_width()/2, bar.get_height()),\n",
        "                 size = 10, xytext = (0,8), ha = 'center', va= 'center', textcoords = 'offset points')\n",
        "plt.show()"
      ],
      "metadata": {
        "id": "aYG_bcY9MiM2"
      },
      "execution_count": null,
      "outputs": []
    },
    {
      "cell_type": "markdown",
      "source": [
        "1. Why did you pick the specific chart?"
      ],
      "metadata": {
        "id": "VjNP_gyCNiH2"
      }
    },
    {
      "cell_type": "code",
      "source": [],
      "metadata": {
        "id": "DoNAgXxFNoJL"
      },
      "execution_count": null,
      "outputs": []
    },
    {
      "cell_type": "markdown",
      "source": [
        "Bar charts are used to compare the size or frequency of different categories or groups of data. Bar charts are useful for comparing data across different categories, and they can be used to display a large amount of data in a small space. we used this chart to find the cancellation analysis with its respective features like market segment,deposit type of the bookings, and the booking has a previous cancellations and is repeated guest to know the insights of it.\n",
        "\n",
        "Line plots, also known as line charts or line graphs, are used to visualize the relationship between two continuous variables. They are commonly used to show trends over time or to display the continuous relationship between two variables. We used this chart to find insights of cancellation analysis and its trend with lead time in months of cancellations."
      ],
      "metadata": {
        "id": "jyFs3debNouF"
      }
    },
    {
      "cell_type": "markdown",
      "source": [
        "2. What is/are the insight(s) found from the chart?"
      ],
      "metadata": {
        "id": "M27a6sbEN6MH"
      }
    },
    {
      "cell_type": "markdown",
      "source": [
        "Based on the insights derived from the chart, we can identify several factors that contribute to the cancellations of bookings. These insights can help inform business strategies and initiatives:\n",
        "\n",
        "Market Segment: The analysis shows that the online travel agency (TA) market segment has the highest percentage of cancellations at 35.3%. This suggests that there may be specific challenges or factors influencing cancellations from this segment. Businesses can focus on understanding the reasons behind these cancellations and develop targeted measures to reduce them.\n",
        "\n",
        "Deposit Type: The data reveals that bookings with non-refundable deposit types have a significantly higher cancellation rate of 94.70%. On the other hand, bookings with refundable deposit types have a lower cancellation rate of 24.30%. This indicates that the deposit policy plays a crucial role in cancellation behavior. Businesses may consider adjusting their deposit policies to incentivize guests to keep their bookings.\n",
        "\n",
        "Previous Cancellation History: Bookings with a previous cancellation history have a higher cancellation rate of 68.00%, while those without a previous cancellation history have a lower rate of 26.73%. This suggests that past cancellation behavior can be an indicator of future cancellations. Businesses can leverage this insight to implement targeted retention strategies for guests with a history of cancellations.\n",
        "\n",
        "Repeated Guests: The analysis shows that repeated guests have a lower cancellation rate of 7.73% compared to 28.3% for non-repeated guests. This indicates that guest loyalty and familiarity with the establishment may play a role in reducing cancellations. Businesses can focus on nurturing and rewarding repeat guests to enhance customer loyalty and reduce cancellations.\n",
        "\n",
        "Lead Time: The lead time in months for bookings also affects the cancellation rate. Bookings with a lead time greater than 16 months have a 100% cancellation rate, while those with a lead time between 6-15 months have a 66% cancellation rate. Bookings with a lead time less than 6 months have a lower cancellation rate of 35%. This suggests that longer lead times may increase the likelihood of cancellations. Businesses can optimize their booking policies, marketing strategies, and pricing to mitigate cancellations associated with longer lead times.\n",
        "\n",
        "Overall, these insights provide valuable information for businesses to understand the patterns and drivers of cancellations. By addressing the factors contributing to cancellations, businesses can impleme`nt targeted measures and strategies to reduce cancellations, improve customer satisfaction, and ultimately have a positive impact on the bottom line."
      ],
      "metadata": {
        "id": "-k2PuXyfOBay"
      }
    },
    {
      "cell_type": "markdown",
      "source": [
        "3. Will the gained insights help creating a positive business impact?\n",
        "\n",
        "Are there any insights that lead to negative growth? Justify with specific reason."
      ],
      "metadata": {
        "id": "4fzCQMGjOTxY"
      }
    },
    {
      "cell_type": "code",
      "source": [],
      "metadata": {
        "id": "aXprEZTpOoXF"
      },
      "execution_count": null,
      "outputs": []
    },
    {
      "cell_type": "markdown",
      "source": [
        "\n",
        "Yes, the gained insights can help create a positive business impact. By understanding the factors contributing to cancellations and taking appropriate actions, businesses can reduce cancellations and improve overall customer satisfaction and profitability. Here are some specific examples:\n",
        "\n",
        "Restricting Online TA Bookings: Since the analysis shows that the online travel agency (TA) market segment has a high cancellation rate, businesses can implement measures to restrict or regulate bookings from this segment. This can include setting specific terms and conditions for online TA bookings or requiring additional guarantees to reduce the likelihood of cancellations.\n",
        "\n",
        "Addressing Non-Refundable Bookings: Non-refundable bookings have a significantly higher cancellation rate. To mitigate this, businesses can focus on improving communication and transparency with guests regarding the reasons for potential date changes, room availability, or location preferences. By providing a clear understanding of these factors, guests may be more likely to honor their bookings and avoid cancellations.\n",
        "\n",
        "Managing Bookings with Longer Lead Times: Bookings with longer lead times, particularly those exceeding 6 months, have higher cancellation rates. Businesses can explore implementing advance payment or full payment options for these bookings. Requiring guests to make a substantial financial commitment upfront can reduce the likelihood of cancellations and increase the commitment to stay.\n",
        "\n",
        "While these insights provide opportunities for positive business impact, it's important to note that the insights also highlight areas that may lead to negative growth if not addressed. For example, a high cancellation rate from certain market segments or deposit types can result in lost revenue and potential negative reviews or reputation impact. Therefore, it's crucial for businesses to take proactive steps to address these insights and implement strategies that minimize cancellations while maximizing customer satisfaction and overall business growth."
      ],
      "metadata": {
        "id": "XgryKO3BO1N9"
      }
    },
    {
      "cell_type": "markdown",
      "source": [
        "## Chart - 14 - Correlation Heatmap"
      ],
      "metadata": {
        "id": "Ag9LCva-p1cl"
      }
    },
    {
      "cell_type": "code",
      "source": [
        "\n",
        "# Correlation Heatmap visualization code\n",
        "# storing the columns in a variable\n",
        "num_df = df[['lead_time','previous_cancellations','previous_bookings_not_canceled','booking_changes','days_in_waiting_list','adr','required_car_parking_spaces','total_of_special_requests','total_number_of_people']]\n",
        "\n",
        "# using the correlation\n",
        "corrmat = num_df.corr()\n",
        "f, ax = plt.subplots(figsize = (12,10))\n",
        "sns.heatmap(corrmat,annot = True,fmt = \".2f\",annot_kws ={'size': 10},vmin = -1, vmax = 1, square = True)"
      ],
      "metadata": {
        "id": "EUfxeq9-p1cl"
      },
      "execution_count": null,
      "outputs": []
    },
    {
      "cell_type": "markdown",
      "source": [
        "##### 1. Why did you pick the specific chart?"
      ],
      "metadata": {
        "id": "E6MkPsBcp1cl"
      }
    },
    {
      "cell_type": "markdown",
      "source": [
        "##### 2. What is/are the insight(s) found from the chart?"
      ],
      "metadata": {
        "id": "2cELzS2fp1cl"
      }
    },
    {
      "cell_type": "markdown",
      "source": [
        "From the correlation heatmap, we can observe the following insights:\n",
        "\n",
        "Lead time and booking changes have a slight positive correlation. This suggests that as the lead time increases, there may be a slightly higher likelihood of changes being made to the booking.\n",
        "\n",
        "Lead time is also slightly related to the number of days on the waiting list. This implies that longer lead times may result in a slightly higher chance of being on the waiting list for more days.\n",
        "\n",
        "Average Daily Rate (ADR) shows a slight positive correlation with the number of people for a booking. This indicates that bookings with more people may have slightly higher ADR.\n",
        "\n",
        "Total special requests are slightly related to ADR. This suggests that bookings with more special requests may have slightly higher ADR.\n",
        "\n",
        "The number of people for a booking is slightly related to the lead time. This implies that bookings with more people may have slightly longer lead times.\n",
        "\n",
        "Overall, the correlations observed in the heatmap are relatively weak, with coefficients close to zero. This suggests that the variables in the dataset may not have strong linear relationships with each other."
      ],
      "metadata": {
        "id": "ozQPc2_Ip1cl"
      }
    },
    {
      "cell_type": "markdown",
      "source": [
        "Chart - 15 - Pair Plot"
      ],
      "metadata": {
        "id": "NC_X3p0fY2L0"
      }
    },
    {
      "cell_type": "code",
      "source": [
        "# Pair Plot visualization code\n",
        "final_data = sns.pairplot(num_df, hue = 'previous_cancellations', palette = 'Set2')"
      ],
      "metadata": {
        "id": "xyC9zolEZNRQ"
      },
      "execution_count": null,
      "outputs": []
    },
    {
      "cell_type": "markdown",
      "source": [
        "##### 1. Why did you pick the specific chart?"
      ],
      "metadata": {
        "id": "UV0SzAkaZNRQ"
      }
    },
    {
      "cell_type": "markdown",
      "source": [
        "A pairplot, also known as a scatterplot matrix, is a visualization that allows you to visualize the relationships between all pairs of variables in a dataset. It is a useful tool for data exploration because it allows you to quickly see how all of the variables in a dataset are related to one another.\n",
        "\n",
        "Thus, we used pair plot to analyse the patterns of data and realationship between the features. It's exactly same as the correlation map but here you will get the graphical representation."
      ],
      "metadata": {
        "id": "DVPuT8LYZNRQ"
      }
    },
    {
      "cell_type": "markdown",
      "source": [
        "##### 2. What is/are the insight(s) found from the chart?"
      ],
      "metadata": {
        "id": "YPEH6qLeZNRQ"
      }
    },
    {
      "cell_type": "markdown",
      "source": [
        "Based on the pairplot analysis, it appears that the variables in the dataset have a weak or no significant linear relationship with each other. There are no clear patterns or strong correlations between the variables. This suggests that the variables are relatively independent of each other and may not have a strong influence on one another."
      ],
      "metadata": {
        "id": "bfSqtnDqZNRR"
      }
    },
    {
      "cell_type": "markdown",
      "source": [
        "## **5. Solution to Business Objective**"
      ],
      "metadata": {
        "id": "JcMwzZxoAimU"
      }
    },
    {
      "cell_type": "markdown",
      "source": [
        "#### What do you suggest the client to achieve Business Objective ?\n",
        "Explain Briefly."
      ],
      "metadata": {
        "id": "8G2x9gOozGDZ"
      }
    },
    {
      "cell_type": "markdown",
      "source": [
        "What do you suggest the client to achieve Business Objective ?\n",
        "Based on the analysis, here are some suggestions to achieve the business objectives:\n",
        "\n",
        "1.Cancellation Policies: Implement stricter rules and policies for cancellations, especially for bookings made through Online Travel Agencies (OTAs). Consider releasing booking commissions only after successful completion of the booking to discourage cancellations.\n",
        "\n",
        "2.Deposit Type: Investigate the reasons behind cancellations for non-refundable deposits and take necessary precautions. Provide clear information about the refund policies for different deposit types to set proper expectations.\n",
        "\n",
        "3.Previously Cancelled Bookings: Develop policies or incentives to discourage cancellations for customers who have a history of cancelling bookings. This could include offering special discounts or benefits for those who commit to their bookings.\n",
        "\n",
        "4.Off-Peak Months: Implement additional marketing and business strategies to boost business during the months of November, December, January, and February. Consider offering seasonal promotions, targeted advertising, or partnerships with local events or attractions.\n",
        "\n",
        "5.ADR for Resort Hotel: Take actions to improve the Average Daily Rate (ADR) for the resort hotel. This could involve enhancing facilities, services, or amenities to provide a higher value proposition for guests.\n",
        "\n",
        "6.Bulk/Group Bookings: Develop plans to attract and increase bulk/group bookings, as they tend to have better ADR. Consider offering special group rates, customized packages, or additional incentives to attract larger bookings.\n",
        "\n",
        "By implementing these strategies, the business can work towards reducing cancellations, increasing ADR, and maximizing revenue during both peak and off-peak seasons."
      ],
      "metadata": {
        "id": "pASKb0qOza21"
      }
    },
    {
      "cell_type": "markdown",
      "source": [
        "# **Conclusion**"
      ],
      "metadata": {
        "id": "gCX9965dhzqZ"
      }
    },
    {
      "cell_type": "markdown",
      "source": [
        "In conclusion, based on the exploratory data analysis (EDA), several insights and recommendations have been identified to improve the business:\n",
        "\n",
        "Hotel Type: The city hotel type is busier compared to the resort hotel. The resort hotel should invest in improving facilities and services to attract more bookings and increase the number of repeated guests.\n",
        "\n",
        "Market Segment: The majority of bookings (59.88%) are from the Online Travel Agency (OTA) market segment. To diversify and reduce dependence on a single segment, the hotel should explore strategies to attract bookings from corporate clients and groups.\n",
        "\n",
        "Seasonality: August is the busiest month for bookings, and the period from May to October shows higher business activity. To maximize revenue, the hotel should focus on boosting business during the remaining months by implementing targeted marketing campaigns and offering special promotions.\n",
        "\n",
        "Average Waiting Time: The city hotel has an average waiting time of 1 day, while the resort hotel has a shorter waiting time of 0.3 days. The city hotel should work on reducing the waiting time to enhance guest satisfaction and potentially increase bookings.\n",
        "\n",
        "Lead Time and Cancellations: There is a slightly positive correlation between lead time and cancellations. The hotel should analyze the reasons behind longer lead times leading to cancellations and consider implementing measures to minimize cancellations, such as offering incentives for non-refundable bookings or providing flexible booking options.\n",
        "\n",
        "Occupancy and Number of People: Bookings with a higher average daily rate (ADR) are associated with a total people count of 4-5. The hotel should focus on attracting family/group bookings and provide suitable facilities and services to cater to their needs.\n",
        "\n",
        "By implementing these recommendations, the hotel can improve its occupancy rates, increase revenue, and enhance overall guest satisfaction. Regular monitoring and analysis of data trends will also help in adapting strategies to meet changing market demands and business objectives."
      ],
      "metadata": {
        "id": "Fjb1IsQkh3yE"
      }
    },
    {
      "cell_type": "markdown",
      "source": [
        "### ***Hurrah! You have successfully completed your EDA Capstone Project !!!***"
      ],
      "metadata": {
        "id": "gIfDvo9L0UH2"
      }
    }
  ]
}